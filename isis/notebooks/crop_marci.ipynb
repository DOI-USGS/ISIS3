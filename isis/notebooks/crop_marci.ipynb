{
 "cells": [
  {
   "cell_type": "code",
   "execution_count": 1,
   "metadata": {},
   "outputs": [],
   "source": [
    "import pvl\n",
    "import struct\n",
    "import matplotlib.pyplot as plt\n",
    "import numpy as np\n",
    "import datetime\n",
    "import os.path\n",
    "import binascii"
   ]
  },
  {
   "cell_type": "code",
   "execution_count": 2,
   "metadata": {
    "collapsed": true
   },
   "outputs": [],
   "source": [
    "marci_file = '/home/arsanders/testData/marci/T02_001251_1292_MU_00N237W.IMG'\n",
    "image_file = marci_file"
   ]
  },
  {
   "cell_type": "code",
   "execution_count": 3,
   "metadata": {},
   "outputs": [
    {
     "data": {
      "text/plain": [
       "PVLModule([\n",
       "  ('PDS_VERSION_ID', 'PDS3')\n",
       "  ('FILE_NAME', 'T02_001251_1292_MU_00N237W.IMG')\n",
       "  ('RECORD_TYPE', 'FIXED_LENGTH')\n",
       "  ('RECORD_BYTES', 128)\n",
       "  ('FILE_RECORDS', 2443)\n",
       "  ('LABEL_RECORDS', 11)\n",
       "  ('^IMAGE', 12)\n",
       "  ('SPACECRAFT_NAME', 'MARS_RECONNAISSANCE_ORBITER')\n",
       "  ('INSTRUMENT_NAME', 'MARS COLOR IMAGER')\n",
       "  ('INSTRUMENT_HOST_NAME', 'MARS RECONNAISSANCE ORBITER')\n",
       "  ('MISSION_PHASE_NAME', 'TRANSITION')\n",
       "  ('TARGET_NAME', 'MARS')\n",
       "  ('INSTRUMENT_ID', 'MARCI')\n",
       "  ('PRODUCER_ID', 'MRO_MARCI_TEAM')\n",
       "  ('DATA_SET_ID', 'MRO-M-MARCI-2-EDR-L0-V1.0')\n",
       "  ('PRODUCT_CREATION_TIME',\n",
       "   datetime.datetime(2007, 5, 18, 18, 47, 48, tzinfo=datetime.timezone.utc))\n",
       "  ('SOFTWARE_NAME', 'makepds05 $Revision: 1.7 $')\n",
       "  ('UPLOAD_ID', 'UNK')\n",
       "  ('ORIGINAL_PRODUCT_ID', '4A_05_1002812900')\n",
       "  ('PRODUCT_ID', 'T02_001251_1292_MU_00N237W')\n",
       "  ('START_TIME',\n",
       "   datetime.datetime(2006, 11, 1, 22, 45, 53, 570000, tzinfo=datetime.timezone.utc))\n",
       "  ('STOP_TIME',\n",
       "   datetime.datetime(2006, 11, 1, 23, 49, 50, 370000, tzinfo=datetime.timezone.utc))\n",
       "  ('SPACECRAFT_CLOCK_START_COUNT', '846888372:131')\n",
       "  ('SPACECRAFT_CLOCK_STOP_COUNT', 'N/A')\n",
       "  ('INTERFRAME_DELAY', Quantity(value=3.2, units='SECONDS'))\n",
       "  ('FOCAL_PLANE_TEMPERATURE', Quantity(value=256.8, units='K'))\n",
       "  ('SAMPLE_BIT_MODE_ID', 'SQROOT')\n",
       "  ('LINE_EXPOSURE_DURATION', Quantity(value=3129.737, units='MSEC'))\n",
       "  ('SAMPLING_FACTOR', 8)\n",
       "  ('SAMPLE_FIRST_PIXEL', 0)\n",
       "  ('FILTER_NAME', frozenset({'LONG_UV', 'SHORT_UV'}))\n",
       "  ('RATIONALE_DESC', 'global map swath')\n",
       "  ('DATA_QUALITY_DESC', 'ERROR')\n",
       "  ('ORBIT_NUMBER', 1251)\n",
       "  ('IMAGE',\n",
       "   {'CHECKSUM': 30571020,\n",
       "    'LINES': 2432,\n",
       "    'LINE_PREFIX_BYTES': 0,\n",
       "    'LINE_SAMPLES': 128,\n",
       "    'LINE_SUFFIX_BYTES': 0,\n",
       "    'SAMPLE_BITS': 8,\n",
       "    'SAMPLE_BIT_MASK': 255,\n",
       "    'SAMPLE_TYPE': 'UNSIGNED_INTEGER'})\n",
       "])"
      ]
     },
     "execution_count": 3,
     "metadata": {},
     "output_type": "execute_result"
    }
   ],
   "source": [
    "header = pvl.load(marci_file)\n",
    "header"
   ]
  },
  {
   "cell_type": "code",
   "execution_count": 4,
   "metadata": {
    "collapsed": true
   },
   "outputs": [],
   "source": [
    "with open(marci_file, 'rb') as f:\n",
    "    try:\n",
    "        image_offset = ((header[\"^IMAGE\"]-1) * header[\"RECORD_BYTES\"]) - (header['IMAGE']['SAMPLE_BITS']//8)\n",
    "        f.seek(image_offset)\n",
    "        b_image_data = f.read()\n",
    "    except AttributeError:\n",
    "        # If detached label, \"^IMAGE\" will be a list.\n",
    "        image_file = os.path.dirname(marci_file) + \"/\" + header[\"^IMAGE\"][0]\n",
    "        image_offset = header[\"^IMAGE\"][1].value\n",
    "        with open(image_file, 'rb') as im_f:\n",
    "            b_image_data = im_f.read()"
   ]
  },
  {
   "cell_type": "code",
   "execution_count": 5,
   "metadata": {
    "collapsed": true
   },
   "outputs": [],
   "source": [
    "n_lines = 100\n",
    "line_length = header['IMAGE']['LINE_SAMPLES'] * (header['IMAGE']['SAMPLE_BITS']//8)"
   ]
  },
  {
   "cell_type": "code",
   "execution_count": 6,
   "metadata": {
    "collapsed": true
   },
   "outputs": [],
   "source": [
    "image_data = []\n",
    "for j in range(n_lines):\n",
    "    image_sample = np.frombuffer(b_image_data[j*line_length:(j+1)*line_length], dtype=np.uint8, count=int(line_length))\n",
    "    image_data.append(image_sample)\n",
    "image_data = np.array(image_data)"
   ]
  },
  {
   "cell_type": "code",
   "execution_count": 7,
   "metadata": {
    "scrolled": true
   },
   "outputs": [
    {
     "data": {
      "text/plain": [
       "<matplotlib.image.AxesImage at 0x2ba3cc242310>"
      ]
     },
     "execution_count": 7,
     "metadata": {},
     "output_type": "execute_result"
    },
    {
     "data": {
      "image/png": "[encoded data removed]",
      "text/plain": [
       "<Figure size 432x288 with 1 Axes>"
      ]
     },
     "metadata": {
      "needs_background": "light"
     },
     "output_type": "display_data"
    }
   ],
   "source": [
    "plt.imshow(image_data)"
   ]
  },
  {
   "cell_type": "code",
   "execution_count": 8,
   "metadata": {
    "collapsed": true
   },
   "outputs": [],
   "source": [
    "image_fn, image_ext = os.path.splitext(image_file)\n",
    "crop = '_cropped'\n",
    "mini_image_fn = image_fn + crop + image_ext\n",
    "mini_image_bn = os.path.basename(mini_image_fn)\n",
    "\n",
    "grammar = pvl.grammar.ISISGrammar()\n",
    "grammar.comments+=((\"#\", \"\\n\"), )\n",
    "encoder = pvl.encoder.ISISEncoder()\n",
    "\n",
    "# Overwrite the number of lines in the label\n",
    "header['IMAGE']['LINES'] = n_lines\n",
    "\n",
    "if marci_file != image_file:\n",
    "    # If detached label, point the mini label to the mini image\n",
    "    header['FILE_NAME'] = mini_image_bn\n",
    "else:\n",
    "    # If attached label, calculate the new offset\n",
    "    header['^IMAGE'] = pvl.collections.Units(len(pvl.dumps(header, encoder=encoder, grammar=grammar)), 'BYTES')"
   ]
  },
  {
   "cell_type": "code",
   "execution_count": 9,
   "metadata": {},
   "outputs": [
    {
     "data": {
      "text/plain": [
       "1796"
      ]
     },
     "execution_count": 9,
     "metadata": {},
     "output_type": "execute_result"
    }
   ],
   "source": [
    "label_fn, label_ext = os.path.splitext(marci_file)\n",
    "out_label = label_fn + crop + label_ext\n",
    "\n",
    "pvl.dump(header, out_label, encoder=encoder, grammar=grammar)"
   ]
  },
  {
   "cell_type": "code",
   "execution_count": 10,
   "metadata": {
    "collapsed": true
   },
   "outputs": [],
   "source": [
    "with open(mini_image_fn, 'wb+') as f:\n",
    "    b_reduced_image_data = image_data.tobytes()\n",
    "    f.write(b_reduced_image_data)"
   ]
  },
  {
   "cell_type": "code",
   "execution_count": null,
   "metadata": {
    "collapsed": true
   },
   "outputs": [],
   "source": []
  }
 ],
 "metadata": {
  "kernelspec": {
   "display_name": "Python autocnet",
   "language": "python",
   "name": "autocnet"
  },
  "language_info": {
   "codemirror_mode": {
    "name": "ipython",
    "version": 3
   },
   "file_extension": ".py",
   "mimetype": "text/x-python",
   "name": "python",
   "nbconvert_exporter": "python",
   "pygments_lexer": "ipython3",
   "version": "3.7.6"
  }
 },
 "nbformat": 4,
 "nbformat_minor": 2
}
