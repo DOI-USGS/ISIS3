{
 "cells": [
  {
   "cell_type": "code",
   "execution_count": 1,
   "metadata": {},
   "outputs": [],
   "source": [
    "import pvl\n",
    "import struct\n",
    "import matplotlib.pyplot as plt\n",
    "import numpy as np\n",
    "import datetime\n",
    "import os.path\n",
    "import binascii"
   ]
  },
  {
   "cell_type": "code",
   "execution_count": 2,
   "metadata": {
    "collapsed": true
   },
   "outputs": [],
   "source": [
    "chan_file = '/home/arsanders/testData/chandrayaan/forwardDescending/input/M3G20081129T171431_V03_L1B.LBL'\n",
    "image_file = chan_file"
   ]
  },
  {
   "cell_type": "code",
   "execution_count": 3,
   "metadata": {
    "collapsed": true
   },
   "outputs": [],
   "source": [
    "header = pvl.load(chan_file)"
   ]
  },
  {
   "cell_type": "code",
   "execution_count": 4,
   "metadata": {
    "collapsed": true
   },
   "outputs": [],
   "source": [
    "# chan1m32isis requires 4 different files\n",
    "rdn_file = os.path.dirname(chan_file) + \"/\"+ header['RDN_FILE']['^RDN_IMAGE']\n",
    "obs_file = os.path.dirname(chan_file) + \"/\"+ header['OBS_FILE']['^OBS_IMAGE']\n",
    "loc_file = os.path.dirname(chan_file) + \"/\"+ header['LOC_FILE']['^LOC_IMAGE']\n",
    "tab_file = os.path.dirname(chan_file) + \"/\"+ header['UTC_FILE']['^UTC_TIME_TABLE']"
   ]
  },
  {
   "cell_type": "code",
   "execution_count": 5,
   "metadata": {
    "collapsed": true
   },
   "outputs": [],
   "source": [
    "with open(rdn_file, 'rb') as f:\n",
    "    # From the end, seek n_records * record_size backwards\n",
    "    f.seek(-header['RDN_FILE']['RECORD_BYTES'] * header['RDN_FILE']['FILE_RECORDS'], 2)\n",
    "    b_image_data = f.read()"
   ]
  },
  {
   "cell_type": "code",
   "execution_count": 6,
   "metadata": {
    "collapsed": true
   },
   "outputs": [],
   "source": [
    "n_lines = 5\n",
    "line_length = header['RDN_FILE']['RDN_IMAGE']['LINE_SAMPLES'] * (header['RDN_FILE']['RDN_IMAGE']['SAMPLE_BITS']//8)"
   ]
  },
  {
   "cell_type": "code",
   "execution_count": 7,
   "metadata": {
    "collapsed": true
   },
   "outputs": [],
   "source": [
    "def read_chandrayaan(b_image_data, line_length, n_lines, n_bands):\n",
    "    image_data = []\n",
    "    for j in range(n_lines*n_bands):\n",
    "        image_sample = np.frombuffer(b_image_data[j*line_length:(j+1)*line_length],\n",
    "                                     dtype=np.float32, count=int(line_length/4))\n",
    "        image_data.append(image_sample)\n",
    "    return np.array(image_data)"
   ]
  },
  {
   "cell_type": "code",
   "execution_count": 8,
   "metadata": {
    "collapsed": true
   },
   "outputs": [],
   "source": [
    "n_bands = header['RDN_FILE']['RDN_IMAGE']['BANDS']\n",
    "n_output_bands = 3\n",
    "image_data = read_chandrayaan(b_image_data, line_length, n_lines, n_bands)\n",
    "cropped_image_data = image_data[np.where(np.arange(image_data.shape[0]) % n_bands < n_output_bands)]"
   ]
  },
  {
   "cell_type": "code",
   "execution_count": 9,
   "metadata": {
    "scrolled": true
   },
   "outputs": [
    {
     "data": {
      "text/plain": [
       "<matplotlib.image.AxesImage at 0x2b82465a3a90>"
      ]
     },
     "execution_count": 9,
     "metadata": {},
     "output_type": "execute_result"
    },
    {
     "data": {
      "image/png": "[encoded data removed]",
      "text/plain": [
       "<Figure size 432x288 with 1 Axes>"
      ]
     },
     "metadata": {
      "needs_background": "light"
     },
     "output_type": "display_data"
    }
   ],
   "source": [
    "plt.imshow(cropped_image_data[0::n_output_bands])"
   ]
  },
  {
   "cell_type": "code",
   "execution_count": 10,
   "metadata": {
    "collapsed": true
   },
   "outputs": [],
   "source": [
    "with open(obs_file, 'rb') as f:\n",
    "    # From the end, seek n_records * record_size backwards\n",
    "    f.seek(-header['OBS_FILE']['RECORD_BYTES'] * header['OBS_FILE']['FILE_RECORDS'], 2)\n",
    "    b_image_data = f.read()"
   ]
  },
  {
   "cell_type": "code",
   "execution_count": 11,
   "metadata": {
    "collapsed": true
   },
   "outputs": [],
   "source": [
    "n_bands = header['OBS_FILE']['OBS_IMAGE']['BANDS']\n",
    "obs_image_data = read_chandrayaan(b_image_data, line_length, n_lines, n_bands)"
   ]
  },
  {
   "cell_type": "code",
   "execution_count": 12,
   "metadata": {},
   "outputs": [
    {
     "data": {
      "text/plain": [
       "<matplotlib.image.AxesImage at 0x2b81ec6a6fd0>"
      ]
     },
     "execution_count": 12,
     "metadata": {},
     "output_type": "execute_result"
    },
    {
     "data": {
      "image/png": "[encoded data removed]",
      "text/plain": [
       "<Figure size 432x288 with 1 Axes>"
      ]
     },
     "metadata": {
      "needs_background": "light"
     },
     "output_type": "display_data"
    }
   ],
   "source": [
    "plt.imshow(obs_image_data[1::10])"
   ]
  },
  {
   "cell_type": "code",
   "execution_count": 13,
   "metadata": {
    "collapsed": true
   },
   "outputs": [],
   "source": [
    "with open(loc_file, 'rb') as f:\n",
    "    # From the end, seek n_records * record_size backwards\n",
    "    f.seek(-header['LOC_FILE']['RECORD_BYTES'] * header['LOC_FILE']['FILE_RECORDS'], 2)\n",
    "    b_image_data = f.read()"
   ]
  },
  {
   "cell_type": "code",
   "execution_count": 14,
   "metadata": {
    "collapsed": true
   },
   "outputs": [],
   "source": [
    "line_length = header['LOC_FILE']['LOC_IMAGE']['LINE_SAMPLES'] * (header['LOC_FILE']['LOC_IMAGE']['SAMPLE_BITS']//8)\n",
    "n_bands = header['LOC_FILE']['LOC_IMAGE']['BANDS']\n",
    "image_data = []\n",
    "for j in range(n_lines*n_bands):\n",
    "    image_sample = np.frombuffer(b_image_data[j*line_length:(j+1)*line_length],\n",
    "                                 dtype=np.float64, count=int(line_length/8))\n",
    "    image_data.append(image_sample)\n",
    "loc_image_data = np.array(image_data)"
   ]
  },
  {
   "cell_type": "code",
   "execution_count": 15,
   "metadata": {},
   "outputs": [
    {
     "data": {
      "text/plain": [
       "<matplotlib.image.AxesImage at 0x2b81ec711e90>"
      ]
     },
     "execution_count": 15,
     "metadata": {},
     "output_type": "execute_result"
    },
    {
     "data": {
      "image/png": "[encoded data removed]",
      "text/plain": [
       "<Figure size 432x288 with 1 Axes>"
      ]
     },
     "metadata": {
      "needs_background": "light"
     },
     "output_type": "display_data"
    }
   ],
   "source": [
    "plt.imshow(loc_image_data[0::n_bands])"
   ]
  },
  {
   "cell_type": "code",
   "execution_count": 16,
   "metadata": {
    "collapsed": true
   },
   "outputs": [],
   "source": [
    "# Set up files names for each of the four files\n",
    "rdn_fn, rdn_ext = os.path.splitext(rdn_file)\n",
    "obs_fn, obs_ext = os.path.splitext(obs_file)\n",
    "loc_fn, loc_ext = os.path.splitext(loc_file)\n",
    "tab_fn, tab_ext = os.path.splitext(tab_file)\n",
    "crop = '_cropped'\n",
    "mini_rdn_fn = rdn_fn + crop + rdn_ext\n",
    "mini_rdn_bn = os.path.basename(mini_rdn_fn)\n",
    "\n",
    "mini_obs_fn = obs_fn + crop + obs_ext\n",
    "mini_obs_bn = os.path.basename(mini_obs_fn)\n",
    "\n",
    "mini_loc_fn = loc_fn + crop + loc_ext\n",
    "mini_loc_bn = os.path.basename(mini_loc_fn)\n",
    "\n",
    "mini_tab_fn = tab_fn + crop + tab_ext\n",
    "mini_tab_bn = os.path.basename(mini_tab_fn)\n"
   ]
  },
  {
   "cell_type": "code",
   "execution_count": 17,
   "metadata": {
    "collapsed": true
   },
   "outputs": [],
   "source": [
    "header['RDN_FILE']['^RDN_IMAGE'] = mini_rdn_bn\n",
    "header['RDN_FILE']['FILE_RECORDS'] = n_lines\n",
    "header['RDN_FILE']['RDN_IMAGE']['LINES'] = n_lines\n",
    "header['RDN_FILE']['RDN_IMAGE']['BANDS'] = n_output_bands\n",
    "header['RDN_FILE']['RECORD_BYTES'] = int(n_output_bands * (header['RDN_FILE']['RDN_IMAGE']['SAMPLE_BITS']/8) *header['RDN_FILE']['RDN_IMAGE']['LINE_SAMPLES'])\n",
    "\n",
    "header['LOC_FILE']['^LOC_IMAGE'] = mini_loc_bn\n",
    "header['LOC_FILE']['FILE_RECORDS'] = n_lines\n",
    "header['LOC_FILE']['LOC_IMAGE']['LINES'] = n_lines\n",
    "\n",
    "header['OBS_FILE']['^OBS_IMAGE'] = mini_obs_bn\n",
    "header['OBS_FILE']['FILE_RECORDS'] = n_lines\n",
    "header['OBS_FILE']['OBS_IMAGE']['LINES'] = n_lines\n",
    "\n",
    "header['UTC_FILE']['^UTC_TIME_TABLE'] = mini_tab_bn\n",
    "header['UTC_FILE']['FILE_RECORDS'] = n_lines\n",
    "header['UTC_FILE']['UTC_TIME_TABLE']['ROWS'] = n_lines"
   ]
  },
  {
   "cell_type": "code",
   "execution_count": 18,
   "metadata": {},
   "outputs": [
    {
     "data": {
      "text/plain": [
       "7527"
      ]
     },
     "execution_count": 18,
     "metadata": {},
     "output_type": "execute_result"
    }
   ],
   "source": [
    "label_fn, label_ext = os.path.splitext(chan_file)\n",
    "out_label = label_fn + crop + label_ext\n",
    "\n",
    "grammar = pvl.grammar.ISISGrammar()\n",
    "grammar.comments+=((\"#\", \"\\n\"), )\n",
    "encoder = pvl.encoder.ISISEncoder()\n",
    "\n",
    "pvl.dump(header, out_label, encoder=encoder, grammar=grammar)"
   ]
  },
  {
   "cell_type": "code",
   "execution_count": 19,
   "metadata": {
    "collapsed": true
   },
   "outputs": [],
   "source": [
    "with open(mini_rdn_fn, 'wb+') as f:\n",
    "    b_reduced_image_data = cropped_image_data.tobytes()\n",
    "    f.seek(0, 2)\n",
    "    f.write(b_reduced_image_data)"
   ]
  },
  {
   "cell_type": "code",
   "execution_count": 20,
   "metadata": {
    "collapsed": true
   },
   "outputs": [],
   "source": [
    "with open(mini_loc_fn, 'wb+') as f:\n",
    "    b_reduced_image_data = loc_image_data.tobytes()\n",
    "    f.seek(0, 2)\n",
    "    f.write(b_reduced_image_data)"
   ]
  },
  {
   "cell_type": "code",
   "execution_count": 21,
   "metadata": {
    "collapsed": true
   },
   "outputs": [],
   "source": [
    "with open(mini_obs_fn, 'wb+') as f:\n",
    "    b_reduced_image_data = obs_image_data.tobytes()\n",
    "    f.seek(0, 2)\n",
    "    f.write(b_reduced_image_data)"
   ]
  },
  {
   "cell_type": "code",
   "execution_count": 22,
   "metadata": {
    "collapsed": true
   },
   "outputs": [],
   "source": [
    "with open(tab_file) as f:\n",
    "    head = [next(f) for x in range(n_lines)]\n",
    "    head = \"\".join(head)\n",
    "with open(mini_tab_fn, 'w+') as f:\n",
    "    f.write(head)"
   ]
  },
  {
   "cell_type": "code",
   "execution_count": null,
   "metadata": {
    "collapsed": true
   },
   "outputs": [],
   "source": []
  }
 ],
 "metadata": {
  "kernelspec": {
   "display_name": "Python autocnet",
   "language": "python",
   "name": "autocnet"
  },
  "language_info": {
   "codemirror_mode": {
    "name": "ipython",
    "version": 3
   },
   "file_extension": ".py",
   "mimetype": "text/x-python",
   "name": "python",
   "nbconvert_exporter": "python",
   "pygments_lexer": "ipython3",
   "version": "3.7.6"
  }
 },
 "nbformat": 4,
 "nbformat_minor": 2
}
