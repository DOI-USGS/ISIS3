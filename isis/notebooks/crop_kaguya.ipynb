{
 "cells": [
  {
   "cell_type": "code",
   "execution_count": 80,
   "metadata": {
    "collapsed": true
   },
   "outputs": [],
   "source": [
    "import pvl\n",
    "import struct\n",
    "import matplotlib.pyplot as plt\n",
    "import numpy as np\n",
    "import datetime\n",
    "import os.path\n",
    "import binascii"
   ]
  },
  {
   "cell_type": "code",
   "execution_count": 120,
   "metadata": {
    "collapsed": true
   },
   "outputs": [],
   "source": [
    "#kaguya_file = '/scratch/arsanders/kaguyatc/TC2S2B0_01_03043N107E3384.img'\n",
    "#kaguya_file = '/home/arsanders/testData/apollo/AS15-M-1450.lbl'\n",
    "kaguya_file = '/home/arsanders/testData/marci/MOI_000009_0294_MU_00N044W.IMG'\n",
    "image_file = kaguya_file"
   ]
  },
  {
   "cell_type": "code",
   "execution_count": 121,
   "metadata": {
    "collapsed": true
   },
   "outputs": [],
   "source": [
    "header = pvl.load(kaguya_file)"
   ]
  },
  {
   "cell_type": "code",
   "execution_count": 122,
   "metadata": {},
   "outputs": [
    {
     "data": {
      "text/plain": [
       "PVLModule([\n",
       "  ('PDS_VERSION_ID', 'PDS3')\n",
       "  ('FILE_NAME', 'MOI_000009_0294_MU_00N044W.IMG')\n",
       "  ('RECORD_TYPE', 'FIXED_LENGTH')\n",
       "  ('RECORD_BYTES', 128)\n",
       "  ('FILE_RECORDS', 2259)\n",
       "  ('LABEL_RECORDS', 11)\n",
       "  ('^IMAGE', 12)\n",
       "  ('SPACECRAFT_NAME', 'MARS_RECONNAISSANCE_ORBITER')\n",
       "  ('INSTRUMENT_NAME', 'MARS COLOR IMAGER')\n",
       "  ('INSTRUMENT_HOST_NAME', 'MARS RECONNAISSANCE ORBITER')\n",
       "  ('MISSION_PHASE_NAME', 'POSTMOI')\n",
       "  ('TARGET_NAME', 'MARS')\n",
       "  ('INSTRUMENT_ID', 'MARCI')\n",
       "  ('PRODUCER_ID', 'MRO_MARCI_TEAM')\n",
       "  ('DATA_SET_ID', 'MRO-M-MARCI-2-EDR-L0-V1.0')\n",
       "  ('PRODUCT_CREATION_TIME', datetime.datetime(2007, 5, 17, 18, 31, 28))\n",
       "  ('SOFTWARE_NAME', 'makepds05 $Revision: 1.7 $')\n",
       "  ('UPLOAD_ID', 'UNK')\n",
       "  ('ORIGINAL_PRODUCT_ID', '4A_05_0001000200')\n",
       "  ('PRODUCT_ID', 'MOI_000009_0294_MU_00N044W')\n",
       "  ('START_TIME', datetime.datetime(2006, 3, 24, 4, 25, 53, 96000))\n",
       "  ('STOP_TIME', datetime.datetime(2006, 3, 24, 4, 55, 48, 296000))\n",
       "  ('SPACECRAFT_CLOCK_START_COUNT', '827641567:30')\n",
       "  ('SPACECRAFT_CLOCK_STOP_COUNT', 'N/A')\n",
       "  ('INTERFRAME_DELAY', Units(value=3.2, units='SECONDS'))\n",
       "  ('FOCAL_PLANE_TEMPERATURE', Units(value=240.9, units='K'))\n",
       "  ('SAMPLE_BIT_MODE_ID', 'SQROOT')\n",
       "  ('LINE_EXPOSURE_DURATION', Units(value=3112.237, units='MSEC'))\n",
       "  ('SAMPLING_FACTOR', 8)\n",
       "  ('SAMPLE_FIRST_PIXEL', 0)\n",
       "  ('FILTER_NAME', {'LONG_UV', 'SHORT_UV'})\n",
       "  ('RATIONALE_DESC', 'Post-MOI image of Argyre and Mare Erythraeum region')\n",
       "  ('DATA_QUALITY_DESC', 'OK')\n",
       "  ('ORBIT_NUMBER', 9)\n",
       "  ('IMAGE',\n",
       "   {'CHECKSUM': 12820826,\n",
       "    'LINES': 2248,\n",
       "    'LINE_PREFIX_BYTES': 0,\n",
       "    'LINE_SAMPLES': 128,\n",
       "    'LINE_SUFFIX_BYTES': 0,\n",
       "    'SAMPLE_BITS': 8,\n",
       "    'SAMPLE_BIT_MASK': 255,\n",
       "    'SAMPLE_TYPE': 'UNSIGNED_INTEGER'})\n",
       "])"
      ]
     },
     "execution_count": 122,
     "metadata": {},
     "output_type": "execute_result"
    }
   ],
   "source": [
    "header"
   ]
  },
  {
   "cell_type": "code",
   "execution_count": 123,
   "metadata": {},
   "outputs": [
    {
     "data": {
      "text/plain": [
       "12"
      ]
     },
     "execution_count": 123,
     "metadata": {},
     "output_type": "execute_result"
    }
   ],
   "source": [
    "header[\"^IMAGE\"]"
   ]
  },
  {
   "cell_type": "code",
   "execution_count": 132,
   "metadata": {
    "collapsed": true
   },
   "outputs": [],
   "source": [
    "with open(kaguya_file, 'rb') as f:\n",
    "    try:\n",
    "        image_offset = header[\"^IMAGE\"].value-(header['IMAGE']['SAMPLE_BITS']//8)\n",
    "        f.seek(image_offset)\n",
    "        b_image_data = f.read()\n",
    "    except AttributeError:\n",
    "        # If detached label, \"^IMAGE\" will be a list.\n",
    "        image_file = os.path.dirname(kaguya_file) + \"/\" + header[\"^IMAGE\"][0]\n",
    "        image_offset = header[\"^IMAGE\"][1].value\n",
    "        with open(image_file, 'rb') as im_f:\n",
    "            b_image_data = im_f.read()"
   ]
  },
  {
   "cell_type": "code",
   "execution_count": 133,
   "metadata": {
    "collapsed": true
   },
   "outputs": [],
   "source": [
    "n_lines = 40\n",
    "line_length = header['IMAGE']['LINE_SAMPLES'] * (header['IMAGE']['SAMPLE_BITS']//8)"
   ]
  },
  {
   "cell_type": "code",
   "execution_count": 137,
   "metadata": {},
   "outputs": [
    {
     "ename": "ValueError",
     "evalue": "buffer is smaller than requested size",
     "output_type": "error",
     "traceback": [
      "\u001b[0;31m---------------------------------------------------------------------------\u001b[0m",
      "\u001b[0;31mValueError\u001b[0m                                Traceback (most recent call last)",
      "\u001b[0;32m<ipython-input-137-ccbb4b74ff01>\u001b[0m in \u001b[0;36m<module>\u001b[0;34m\u001b[0m\n\u001b[1;32m      1\u001b[0m \u001b[0mimage_data\u001b[0m \u001b[0;34m=\u001b[0m \u001b[0;34m[\u001b[0m\u001b[0;34m]\u001b[0m\u001b[0;34m\u001b[0m\u001b[0;34m\u001b[0m\u001b[0m\n\u001b[1;32m      2\u001b[0m \u001b[0;32mfor\u001b[0m \u001b[0mj\u001b[0m \u001b[0;32min\u001b[0m \u001b[0mrange\u001b[0m\u001b[0;34m(\u001b[0m\u001b[0mn_lines\u001b[0m\u001b[0;34m)\u001b[0m\u001b[0;34m:\u001b[0m\u001b[0;34m\u001b[0m\u001b[0;34m\u001b[0m\u001b[0m\n\u001b[0;32m----> 3\u001b[0;31m     \u001b[0mimage_sample\u001b[0m \u001b[0;34m=\u001b[0m \u001b[0mnp\u001b[0m\u001b[0;34m.\u001b[0m\u001b[0mfrombuffer\u001b[0m\u001b[0;34m(\u001b[0m\u001b[0mb_image_data\u001b[0m\u001b[0;34m[\u001b[0m\u001b[0mj\u001b[0m\u001b[0;34m*\u001b[0m\u001b[0mline_length\u001b[0m\u001b[0;34m:\u001b[0m\u001b[0;34m(\u001b[0m\u001b[0mj\u001b[0m\u001b[0;34m+\u001b[0m\u001b[0;36m1\u001b[0m\u001b[0;34m)\u001b[0m\u001b[0;34m*\u001b[0m\u001b[0mline_length\u001b[0m\u001b[0;34m]\u001b[0m\u001b[0;34m,\u001b[0m \u001b[0mdtype\u001b[0m\u001b[0;34m=\u001b[0m\u001b[0mnp\u001b[0m\u001b[0;34m.\u001b[0m\u001b[0mint16\u001b[0m\u001b[0;34m,\u001b[0m \u001b[0mcount\u001b[0m\u001b[0;34m=\u001b[0m\u001b[0mint\u001b[0m\u001b[0;34m(\u001b[0m\u001b[0mline_length\u001b[0m\u001b[0;34m)\u001b[0m\u001b[0;34m)\u001b[0m\u001b[0;34m\u001b[0m\u001b[0;34m\u001b[0m\u001b[0m\n\u001b[0m\u001b[1;32m      4\u001b[0m     \u001b[0mimage_data\u001b[0m\u001b[0;34m.\u001b[0m\u001b[0mappend\u001b[0m\u001b[0;34m(\u001b[0m\u001b[0mimage_sample\u001b[0m\u001b[0;34m)\u001b[0m\u001b[0;34m\u001b[0m\u001b[0;34m\u001b[0m\u001b[0m\n\u001b[1;32m      5\u001b[0m \u001b[0mimage_data\u001b[0m \u001b[0;34m=\u001b[0m \u001b[0mnp\u001b[0m\u001b[0;34m.\u001b[0m\u001b[0marray\u001b[0m\u001b[0;34m(\u001b[0m\u001b[0mimage_data\u001b[0m\u001b[0;34m)\u001b[0m\u001b[0;34m\u001b[0m\u001b[0;34m\u001b[0m\u001b[0m\n",
      "\u001b[0;31mValueError\u001b[0m: buffer is smaller than requested size"
     ]
    }
   ],
   "source": [
    "image_data = []\n",
    "for j in range(n_lines):\n",
    "    image_sample = np.frombuffer(b_image_data[j*line_length:(j+1)*line_length], dtype=np.int16, count=int(line_length/2))\n",
    "    image_data.append(image_sample)\n",
    "image_data = np.array(image_data)"
   ]
  },
  {
   "cell_type": "code",
   "execution_count": 136,
   "metadata": {},
   "outputs": [
    {
     "data": {
      "text/plain": [
       "(40, 64)"
      ]
     },
     "execution_count": 136,
     "metadata": {},
     "output_type": "execute_result"
    }
   ],
   "source": [
    "image_data.shape"
   ]
  },
  {
   "cell_type": "code",
   "execution_count": 135,
   "metadata": {},
   "outputs": [
    {
     "data": {
      "text/plain": [
       "<matplotlib.image.AxesImage at 0x2b8996795f10>"
      ]
     },
     "execution_count": 135,
     "metadata": {},
     "output_type": "execute_result"
    },
    {
     "data": {
      "image/png": "[encoded data removed]",
      "text/plain": [
       "<Figure size 432x288 with 1 Axes>"
      ]
     },
     "metadata": {
      "needs_background": "light"
     },
     "output_type": "display_data"
    }
   ],
   "source": [
    "plt.imshow(image_data)"
   ]
  },
  {
   "cell_type": "code",
   "execution_count": 112,
   "metadata": {
    "collapsed": true
   },
   "outputs": [],
   "source": [
    "class RealIsisCubeLabelEncoder(pvl.encoder.IsisCubeLabelEncoder):    \n",
    "    def encode_time(self, value):\n",
    "        if value.microsecond:\n",
    "            second = u'%02d.%06d' % (value.second, value.microsecond)\n",
    "        else:\n",
    "            second = u'%02d' % value.second\n",
    "\n",
    "        time = u'%02d:%02d:%s' % (value.hour, value.minute, second)\n",
    "        return time.encode('utf-8')"
   ]
  },
  {
   "cell_type": "code",
   "execution_count": 113,
   "metadata": {
    "collapsed": true
   },
   "outputs": [],
   "source": [
    "image_fn, image_ext = os.path.splitext(image_file)\n",
    "mini_image_fn = image_fn + '_cropped' + image_ext\n",
    "mini_image_bn = os.path.basename(mini_image_fn)\n",
    "\n",
    "# Overwrite the number of lines in the label\n",
    "header['IMAGE']['LINES'] = n_lines\n",
    "\n",
    "if kaguya_file != image_file:\n",
    "    # If detached label, point the mini label to the mini image\n",
    "    header['^IMAGE'] = [mini_image_bn, pvl._collections.Units(1, 'BYTES')]\n",
    "    header['FILE_NAME'] = mini_image_bn\n",
    "else:\n",
    "    # If attached label, calculate the new offset\n",
    "    header['^IMAGE'] = pvl._collections.Units(len(pvl.dumps(header, cls=RealIsisCubeLabelEncoder)), 'BYTES')"
   ]
  },
  {
   "cell_type": "code",
   "execution_count": 114,
   "metadata": {
    "collapsed": true
   },
   "outputs": [],
   "source": [
    "label_fn, label_ext = os.path.splitext(kaguya_file)\n",
    "out_label = label_fn + '_cropped' + label_ext\n",
    "\n",
    "pvl.dump(header, out_label, cls=RealIsisCubeLabelEncoder)"
   ]
  },
  {
   "cell_type": "code",
   "execution_count": 115,
   "metadata": {
    "collapsed": true
   },
   "outputs": [],
   "source": [
    "with open(mini_image_fn, 'ab+') as f:\n",
    "    b_reduced_image_data = image_data.tobytes()\n",
    "    f.seek(0, 2)\n",
    "    f.write(b_reduced_image_data)"
   ]
  },
  {
   "cell_type": "code",
   "execution_count": null,
   "metadata": {
    "collapsed": true
   },
   "outputs": [],
   "source": []
  },
  {
   "cell_type": "code",
   "execution_count": null,
   "metadata": {
    "collapsed": true
   },
   "outputs": [],
   "source": []
  }
 ],
 "metadata": {
  "kernelspec": {
   "display_name": "Python autocnet",
   "language": "python",
   "name": "autocnet"
  },
  "language_info": {
   "codemirror_mode": {
    "name": "ipython",
    "version": 3
   },
   "file_extension": ".py",
   "mimetype": "text/x-python",
   "name": "python",
   "nbconvert_exporter": "python",
   "pygments_lexer": "ipython3",
   "version": "3.7.6"
  }
 },
 "nbformat": 4,
 "nbformat_minor": 2
}
