{
 "cells": [
  {
   "cell_type": "code",
   "execution_count": 1,
   "metadata": {},
   "outputs": [],
   "source": [
    "import pvl\n",
    "import struct\n",
    "import matplotlib.pyplot as plt\n",
    "import numpy as np\n",
    "import datetime\n",
    "import os.path\n",
    "import binascii"
   ]
  },
  {
   "cell_type": "code",
   "execution_count": 2,
   "metadata": {},
   "outputs": [],
   "source": [
    "#kaguya_file = '/scratch/arsanders/kaguyatc/TC2S2B0_01_03043N107E3384.img'\n",
    "#kaguya_file = '/home/arsanders/testData/apollo/AS15-M-1450.lbl'\n",
    "kaguya_file = '/home/arsanders/testData/marci/MOI_000009_0294_MU_00N044W.IMG'\n",
    "image_file = kaguya_file"
   ]
  },
  {
   "cell_type": "code",
   "execution_count": 3,
   "metadata": {},
   "outputs": [],
   "source": [
    "header = pvl.load(kaguya_file)"
   ]
  },
  {
   "cell_type": "code",
   "execution_count": 4,
   "metadata": {},
   "outputs": [
    {
     "data": {
      "text/plain": [
       "PVLModule([\n",
       "  ('PDS_VERSION_ID', 'PDS3')\n",
       "  ('FILE_NAME', 'MOI_000009_0294_MU_00N044W.IMG')\n",
       "  ('RECORD_TYPE', 'FIXED_LENGTH')\n",
       "  ('RECORD_BYTES', 128)\n",
       "  ('FILE_RECORDS', 2259)\n",
       "  ('LABEL_RECORDS', 11)\n",
       "  ('^IMAGE', 12)\n",
       "  ('SPACECRAFT_NAME', 'MARS_RECONNAISSANCE_ORBITER')\n",
       "  ('INSTRUMENT_NAME', 'MARS COLOR IMAGER')\n",
       "  ('INSTRUMENT_HOST_NAME', 'MARS RECONNAISSANCE ORBITER')\n",
       "  ('MISSION_PHASE_NAME', 'POSTMOI')\n",
       "  ('TARGET_NAME', 'MARS')\n",
       "  ('INSTRUMENT_ID', 'MARCI')\n",
       "  ('PRODUCER_ID', 'MRO_MARCI_TEAM')\n",
       "  ('DATA_SET_ID', 'MRO-M-MARCI-2-EDR-L0-V1.0')\n",
       "  ('PRODUCT_CREATION_TIME',\n",
       "   datetime.datetime(2007, 5, 17, 18, 31, 28, tzinfo=datetime.timezone.utc))\n",
       "  ('SOFTWARE_NAME', 'makepds05 $Revision: 1.7 $')\n",
       "  ('UPLOAD_ID', 'UNK')\n",
       "  ('ORIGINAL_PRODUCT_ID', '4A_05_0001000200')\n",
       "  ('PRODUCT_ID', 'MOI_000009_0294_MU_00N044W')\n",
       "  ('START_TIME',\n",
       "   datetime.datetime(2006, 3, 24, 4, 25, 53, 96000, tzinfo=datetime.timezone.utc))\n",
       "  ('STOP_TIME',\n",
       "   datetime.datetime(2006, 3, 24, 4, 55, 48, 296000, tzinfo=datetime.timezone.utc))\n",
       "  ('SPACECRAFT_CLOCK_START_COUNT', '827641567:30')\n",
       "  ('SPACECRAFT_CLOCK_STOP_COUNT', 'N/A')\n",
       "  ('INTERFRAME_DELAY', Quantity(value=3.2, units='SECONDS'))\n",
       "  ('FOCAL_PLANE_TEMPERATURE', Quantity(value=240.9, units='K'))\n",
       "  ('SAMPLE_BIT_MODE_ID', 'SQROOT')\n",
       "  ('LINE_EXPOSURE_DURATION', Quantity(value=3112.237, units='MSEC'))\n",
       "  ('SAMPLING_FACTOR', 8)\n",
       "  ('SAMPLE_FIRST_PIXEL', 0)\n",
       "  ('FILTER_NAME', frozenset({'LONG_UV', 'SHORT_UV'}))\n",
       "  ('RATIONALE_DESC', 'Post-MOI image of Argyre and Mare Erythraeum region')\n",
       "  ('DATA_QUALITY_DESC', 'OK')\n",
       "  ('ORBIT_NUMBER', 9)\n",
       "  ('IMAGE',\n",
       "   {'CHECKSUM': 12820826,\n",
       "    'LINES': 2248,\n",
       "    'LINE_PREFIX_BYTES': 0,\n",
       "    'LINE_SAMPLES': 128,\n",
       "    'LINE_SUFFIX_BYTES': 0,\n",
       "    'SAMPLE_BITS': 8,\n",
       "    'SAMPLE_BIT_MASK': 255,\n",
       "    'SAMPLE_TYPE': 'UNSIGNED_INTEGER'})\n",
       "])"
      ]
     },
     "execution_count": 4,
     "metadata": {},
     "output_type": "execute_result"
    }
   ],
   "source": [
    "header"
   ]
  },
  {
   "cell_type": "code",
   "execution_count": 5,
   "metadata": {},
   "outputs": [
    {
     "data": {
      "text/plain": [
       "12"
      ]
     },
     "execution_count": 5,
     "metadata": {},
     "output_type": "execute_result"
    }
   ],
   "source": [
    "header[\"^IMAGE\"]"
   ]
  },
  {
   "cell_type": "code",
   "execution_count": 6,
   "metadata": {},
   "outputs": [],
   "source": [
    "with open(kaguya_file, 'rb') as f:\n",
    "    try:\n",
    "        # For marci image \n",
    "        image_offset = header['^IMAGE'] * header['LABEL_RECORDS'] * header[\"RECORD_BYTES\"] - (header['IMAGE']['SAMPLE_BITS']//8)\n",
    "        \n",
    "        # For others\n",
    "        # image_offset = header[\"^IMAGE\"].value-(header['IMAGE']['SAMPLE_BITS']//8) \n",
    "        \n",
    "        f.seek(image_offset)\n",
    "        b_image_data = f.read()\n",
    "    except AttributeError:\n",
    "        # If detached label, \"^IMAGE\" will be a list.\n",
    "        image_file = os.path.dirname(kaguya_file) + \"/\" + header[\"^IMAGE\"][0]\n",
    "        image_offset = header[\"^IMAGE\"][1].value\n",
    "        with open(image_file, 'rb') as im_f:\n",
    "            b_image_data = im_f.read()"
   ]
  },
  {
   "cell_type": "code",
   "execution_count": 7,
   "metadata": {},
   "outputs": [],
   "source": [
    "n_lines = 40\n",
    "line_length = header['IMAGE']['LINE_SAMPLES'] * (header['IMAGE']['SAMPLE_BITS']//8)"
   ]
  },
  {
   "cell_type": "code",
   "execution_count": 8,
   "metadata": {},
   "outputs": [],
   "source": [
    "image_data = []\n",
    "for j in range(n_lines):\n",
    "    image_sample = np.frombuffer(b_image_data[j*line_length:(j+1)*line_length], dtype=np.int16, count=int(line_length/2))\n",
    "    image_data.append(image_sample)\n",
    "image_data = np.array(image_data)"
   ]
  },
  {
   "cell_type": "code",
   "execution_count": 9,
   "metadata": {},
   "outputs": [
    {
     "data": {
      "text/plain": [
       "(40, 64)"
      ]
     },
     "execution_count": 9,
     "metadata": {},
     "output_type": "execute_result"
    }
   ],
   "source": [
    "image_data.shape"
   ]
  },
  {
   "cell_type": "code",
   "execution_count": 10,
   "metadata": {},
   "outputs": [
    {
     "data": {
      "text/plain": [
       "<matplotlib.image.AxesImage at 0x10ec70fd0>"
      ]
     },
     "execution_count": 10,
     "metadata": {},
     "output_type": "execute_result"
    },
    {
     "data": {
      "image/png": "[encoded data removed]",
      "text/plain": [
       "<Figure size 432x288 with 1 Axes>"
      ]
     },
     "metadata": {
      "needs_background": "light"
     },
     "output_type": "display_data"
    }
   ],
   "source": [
    "plt.imshow(image_data)"
   ]
  },
  {
   "cell_type": "code",
   "execution_count": 11,
   "metadata": {},
   "outputs": [],
   "source": [
    "class RealIsisCubeLabelEncoder(pvl.encoder.ISISEncoder):    \n",
    "    def encode_time(self, value):\n",
    "        if value.microsecond:\n",
    "            second = u'%02d.%06d' % (value.second, value.microsecond)\n",
    "        else:\n",
    "            second = u'%02d' % value.second\n",
    "\n",
    "        time = u'%02d:%02d:%s' % (value.hour, value.minute, second)\n",
    "        return time"
   ]
  },
  {
   "cell_type": "code",
   "execution_count": 12,
   "metadata": {},
   "outputs": [],
   "source": [
    "image_fn, image_ext = os.path.splitext(image_file)\n",
    "crop = '_cropped'\n",
    "mini_image_fn = image_fn + crop + image_ext\n",
    "mini_image_bn = os.path.basename(mini_image_fn)\n",
    "\n",
    "grammar = pvl.grammar.ISISGrammar()\n",
    "grammar.comments+=((\"#\", \"\\n\"), )\n",
    "encoder = RealIsisCubeLabelEncoder()\n",
    "\n",
    "# Overwrite the number of lines in the label\n",
    "header['IMAGE']['LINES'] = n_lines\n",
    "\n",
    "if kaguya_file != image_file:\n",
    "    # If detached label, point the mini label to the mini image\n",
    "    header['^IMAGE'] = [mini_image_bn, pvlcollections.Units(1, 'BYTES')]\n",
    "    header['FILE_NAME'] = mini_image_bn\n",
    "else:\n",
    "    # If attached label, calculate the new offset\n",
    "    header['^IMAGE'] = pvl.collections.Units(len(pvl.dumps(header, encoder=encoder, grammar=grammar)), 'BYTES')"
   ]
  },
  {
   "cell_type": "code",
   "execution_count": 13,
   "metadata": {},
   "outputs": [
    {
     "data": {
      "text/plain": [
       "1820"
      ]
     },
     "execution_count": 13,
     "metadata": {},
     "output_type": "execute_result"
    }
   ],
   "source": [
    "label_fn, label_ext = os.path.splitext(kaguya_file)\n",
    "out_label = label_fn + crop + label_ext\n",
    "\n",
    "pvl.dump(header, out_label, encoder=encoder, grammar=grammar)"
   ]
  },
  {
   "cell_type": "code",
   "execution_count": 14,
   "metadata": {},
   "outputs": [],
   "source": [
    "with open(mini_image_fn, 'ab+') as f:\n",
    "    b_reduced_image_data = image_data.tobytes()\n",
    "    f.seek(0, 2)\n",
    "    f.write(b_reduced_image_data)"
   ]
  },
  {
   "cell_type": "code",
   "execution_count": null,
   "metadata": {},
   "outputs": [],
   "source": []
  }
 ],
 "metadata": {
  "kernelspec": {
   "display_name": "Python 3",
   "language": "python",
   "name": "python3"
  },
  "language_info": {
   "codemirror_mode": {
    "name": "ipython",
    "version": 3
   },
   "file_extension": ".py",
   "mimetype": "text/x-python",
   "name": "python",
   "nbconvert_exporter": "python",
   "pygments_lexer": "ipython3",
   "version": "3.9.0"
  }
 },
 "nbformat": 4,
 "nbformat_minor": 2
}
