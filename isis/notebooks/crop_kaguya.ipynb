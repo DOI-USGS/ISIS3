{
 "cells": [
  {
   "cell_type": "code",
   "execution_count": null,
   "metadata": {},
   "outputs": [],
   "source": [
    "import pvl\n",
    "import struct\n",
    "import matplotlib.pyplot as plt\n",
    "import numpy as np\n",
    "import datetime\n",
    "import os.path\n",
    "import binascii"
   ]
  },
  {
   "cell_type": "code",
   "execution_count": null,
   "metadata": {},
   "outputs": [],
   "source": [
    "kaguya_file = '/Path/to/kaguyami/or/kaguyatc.img'\n",
    "image_file = kaguya_file"
   ]
  },
  {
   "cell_type": "code",
   "execution_count": null,
   "metadata": {},
   "outputs": [],
   "source": [
    "header = pvl.load(kaguya_file)"
   ]
  },
  {
   "cell_type": "code",
   "execution_count": null,
   "metadata": {},
   "outputs": [],
   "source": [
    "header"
   ]
  },
  {
   "cell_type": "code",
   "execution_count": null,
   "metadata": {},
   "outputs": [],
   "source": [
    "header[\"^IMAGE\"]"
   ]
  },
  {
   "cell_type": "code",
   "execution_count": null,
   "metadata": {},
   "outputs": [],
   "source": [
    "with open(kaguya_file, 'rb') as f:\n",
    "    try:\n",
    "        # For marci image \n",
    "        # image_offset = header['^IMAGE'] * header['LABEL_RECORDS'] * header[\"RECORD_BYTES\"] - (header['IMAGE']['SAMPLE_BITS']//8)\n",
    "        \n",
    "        # For others\n",
    "        image_offset = header[\"^IMAGE\"].value-(header['IMAGE']['SAMPLE_BITS']//8) \n",
    "        \n",
    "        f.seek(image_offset)\n",
    "        b_image_data = f.read()\n",
    "    except AttributeError:\n",
    "        # If detached label, \"^IMAGE\" will be a list.\n",
    "        image_file = os.path.dirname(kaguya_file) + \"/\" + header[\"^IMAGE\"][0]\n",
    "        image_offset = header[\"^IMAGE\"][1].value\n",
    "        with open(image_file, 'rb') as im_f:\n",
    "            b_image_data = im_f.read()"
   ]
  },
  {
   "cell_type": "code",
   "execution_count": null,
   "metadata": {},
   "outputs": [],
   "source": [
    "n_lines = 20\n",
    "n_bands = 2\n",
    "if \"BANDS\" not in header[\"IMAGE\"].keys():\n",
    "    n_bands = 1\n",
    "line_length = header['IMAGE']['LINE_SAMPLES'] * (header['IMAGE']['SAMPLE_BITS']//8)"
   ]
  },
  {
   "cell_type": "code",
   "execution_count": null,
   "metadata": {},
   "outputs": [],
   "source": [
    "image_data = []\n",
    "for i in range(n_bands):\n",
    "    image_data.append([])\n",
    "    for j in range(n_lines):\n",
    "        image_sample = np.frombuffer(b_image_data[j*line_length:(j+1)*line_length], dtype=np.int16, count=int(line_length/2))\n",
    "        image_data[i].append(image_sample)\n",
    "image_data = np.array(image_data)"
   ]
  },
  {
   "cell_type": "code",
   "execution_count": null,
   "metadata": {},
   "outputs": [],
   "source": [
    "image_data.min()"
   ]
  },
  {
   "cell_type": "code",
   "execution_count": null,
   "metadata": {},
   "outputs": [],
   "source": [
    "plt.imshow(image_data[0])"
   ]
  },
  {
   "cell_type": "code",
   "execution_count": null,
   "metadata": {},
   "outputs": [],
   "source": [
    "class RealIsisCubeLabelEncoder(pvl.encoder.ISISEncoder):    \n",
    "    def encode_time(self, value):\n",
    "        if value.microsecond:\n",
    "            second = u'%02d.%06d' % (value.second, value.microsecond)\n",
    "        else:\n",
    "            second = u'%02d' % value.second\n",
    "\n",
    "        time = u'%02d:%02d:%s' % (value.hour, value.minute, second)\n",
    "        return time"
   ]
  },
  {
   "cell_type": "code",
   "execution_count": null,
   "metadata": {},
   "outputs": [],
   "source": [
    "image_fn, image_ext = os.path.splitext(image_file)\n",
    "crop = '_cropped'\n",
    "mini_image_fn = image_fn + crop + image_ext\n",
    "mini_image_bn = os.path.basename(mini_image_fn)\n",
    "\n",
    "grammar = pvl.grammar.ISISGrammar()\n",
    "grammar.comments+=((\"#\", \"\\n\"), )\n",
    "encoder = RealIsisCubeLabelEncoder()\n",
    "\n",
    "# Overwrite the number of lines in the label\n",
    "header['IMAGE']['LINES'] = n_lines\n",
    "header['IMAGE']['BANDS'] = n_bands\n",
    "\n",
    "if kaguya_file != image_file:\n",
    "    # If detached label, point the mini label to the mini image\n",
    "    header['^IMAGE'] = [mini_image_bn, pvlcollections.Units(1, 'BYTES')]\n",
    "    header['FILE_NAME'] = mini_image_bn\n",
    "else:\n",
    "    # If attached label, calculate the new offset\n",
    "    header['^IMAGE'] = pvl.collections.Units(len(pvl.dumps(header, encoder=encoder, grammar=grammar)), 'BYTES')"
   ]
  },
  {
   "cell_type": "code",
   "execution_count": null,
   "metadata": {},
   "outputs": [],
   "source": [
    "label_fn, label_ext = os.path.splitext(kaguya_file)\n",
    "out_label = label_fn + crop + label_ext\n",
    "print(out_label)\n",
    "\n",
    "pvl.dump(header, out_label, encoder=encoder, grammar=grammar)"
   ]
  },
  {
   "cell_type": "code",
   "execution_count": null,
   "metadata": {},
   "outputs": [],
   "source": [
    "with open(mini_image_fn, 'ab+') as f:\n",
    "    b_reduced_image_data = image_data.tobytes()\n",
    "    f.seek(0, 2)\n",
    "    f.write(b_reduced_image_data)"
   ]
  },
  {
   "cell_type": "code",
   "execution_count": null,
   "metadata": {
    "collapsed": true
   },
   "outputs": [],
   "source": [
    "pvl.load(mini_image_fn)"
   ]
  },
  {
   "cell_type": "code",
   "execution_count": null,
   "metadata": {},
   "outputs": [],
   "source": []
  }
 ],
 "metadata": {
  "kernelspec": {
   "display_name": "Python 3",
   "language": "python",
   "name": "python3"
  },
  "language_info": {
   "codemirror_mode": {
    "name": "ipython",
    "version": 3
   },
   "file_extension": ".py",
   "mimetype": "text/x-python",
   "name": "python",
   "nbconvert_exporter": "python",
   "pygments_lexer": "ipython3",
   "version": "3.7.1"
  }
 },
 "nbformat": 4,
 "nbformat_minor": 2
}
