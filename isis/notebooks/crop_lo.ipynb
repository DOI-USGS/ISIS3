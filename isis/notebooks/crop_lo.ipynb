{
 "cells": [
  {
   "cell_type": "code",
   "execution_count": 1,
   "metadata": {},
   "outputs": [],
   "source": [
    "import pvl\n",
    "import struct\n",
    "import matplotlib.pyplot as plt\n",
    "import numpy as np\n",
    "import datetime\n",
    "import os.path\n",
    "import binascii"
   ]
  },
  {
   "cell_type": "code",
   "execution_count": 2,
   "metadata": {
    "collapsed": true
   },
   "outputs": [],
   "source": [
    "lo_file = '/home/arsanders/testData/lo/case03/input/3083_med_tohi_isis2.cub'"
   ]
  },
  {
   "cell_type": "code",
   "execution_count": 3,
   "metadata": {
    "collapsed": true
   },
   "outputs": [],
   "source": [
    "header = pvl.load(lo_file)"
   ]
  },
  {
   "cell_type": "code",
   "execution_count": 4,
   "metadata": {},
   "outputs": [
    {
     "data": {
      "text/plain": [
       "PVLModule([\n",
       "  ('CCSD3ZF0000100000001NJPL3IF0PDS200000001', 'SFDU_LABEL')\n",
       "  ('RECORD_TYPE', 'FIXED_LENGTH')\n",
       "  ('RECORD_BYTES', 512)\n",
       "  ('FILE_RECORDS', 167)\n",
       "  ('LABEL_RECORDS', 25)\n",
       "  ('FILE_STATE', 'CLEAN')\n",
       "  ('^HISTORY', 26)\n",
       "  ('HISTORY', PVLObject([]))\n",
       "  ('^QUBE', 148)\n",
       "  ('QUBE',\n",
       "   {'AXES': 3,\n",
       "    'AXIS_NAME': ['SAMPLE', 'LINE', 'BAND'],\n",
       "    'BAND_BIN': {'BAND_BIN_CENTER': 1.0,\n",
       "                 'BAND_BIN_ORIGINAL_BAND': 1,\n",
       "                 'BAND_BIN_UNIT': 'NONE'},\n",
       "    'CORE_BASE': 0.0,\n",
       "    'CORE_HIGH_INSTR_SATURATION': 255,\n",
       "    'CORE_HIGH_REPR_SATURATION': 255,\n",
       "    'CORE_ITEMS': [100, 100, 1],\n",
       "    'CORE_ITEM_BYTES': 1,\n",
       "    'CORE_ITEM_TYPE': 'PC_UNSIGNED_INTEGER',\n",
       "    'CORE_LOW_INSTR_SATURATION': 0,\n",
       "    'CORE_LOW_REPR_SATURATION': 0,\n",
       "    'CORE_MULTIPLIER': 1.0,\n",
       "    'CORE_NAME': 'RAW_DATA_NUMBER',\n",
       "    'CORE_NULL': 0,\n",
       "    'CORE_UNIT': 'NONE',\n",
       "    'CORE_VALID_MINIMUM': 1,\n",
       "    'IMAGE_NUMBER': '308300',\n",
       "    'ISIS_GEOMETRY': {'BASE_KERNELS': ['/usgs/cpkgs/isis2/lsb/isisd/data/mk98264a.tls',\n",
       "                                       '/usgs/cpkgs/isis2/lsb/isisd/lodata/lo1_fict.tsc',\n",
       "                                       '/usgs/cpkgs/isis2/lsb/isisd/lodata/lo2_fict.tsc',\n",
       "                                       '/usgs/cpkgs/isis2/lsb/isisd/lodata/lo3_fict.tsc',\n",
       "                                       '/usgs/cpkgs/isis2/lsb/isisd/lodata/lo4_fict.tsc',\n",
       "                                       '/usgs/cpkgs/isis2/lsb/isisd/lodata/lo5_fict.tsc',\n",
       "                                       '/usgs/cpkgs/isis2/lsb/isisd/data/pck00005.tpc'],\n",
       "                      'CAMERA_KERNELS': '/farm/proc1/lo/isislodata/lo3_support.bck',\n",
       "                      'CAMERA_KERNEL_TYPES': 1,\n",
       "                      'KERNLST': '/farm/proc1/lo/isislodata/lo3_kernels.def.1',\n",
       "                      'LEV_SOFTWARE_VERSION': 'LO_MED_1.0',\n",
       "                      'NAIF_SOFTWARE_VERSION': 'CSPICE_N0058',\n",
       "                      'SPACECRAFT_KERNELS': ['/usgs/cpkgs/isis2/lsb/isisd/data/de405.bsp',\n",
       "                                             '/farm/proc1/lo/isislodata/lo3_support.bsp']},\n",
       "    'ISIS_INGESTION': {'LO_SLICE_VERSION': '07_JUL_2003',\n",
       "                       'SCAN_CREATION_DATE': '2004-02-05T10:31:07',\n",
       "                       'SCAN_DENSITY_RANGE': '0.6_TO_3.0',\n",
       "                       'SCAN_RESOLUTION': '25um',\n",
       "                       'TIF2ISIS_VERSION': '22_FEB_2002'},\n",
       "    'ISIS_INSTRUMENT': {'BORESIGHT_LINE': 4550.455,\n",
       "                        'BORESIGHT_SAMPLE': 5427.039,\n",
       "                        'FIDUCIAL_COORD_MICRON': '50um',\n",
       "                        'FRAME_NUMBER': '3083',\n",
       "                        'INSTPARS': '/farm/proc1/lo/isislodata/lo_parameters.def.4',\n",
       "                        'INSTRUMENT_ID': '80_MM_FOCAL_LENGTH_CAMERA',\n",
       "                        'LINES': 8750,\n",
       "                        'SAMPLES': 11800,\n",
       "                        'SPACECRAFT_NAME': 'LUNAR_ORBITER_3',\n",
       "                        'START_TIME': '1967-02-17T21:09:27.610'},\n",
       "    'ISIS_MOSAIC': {'IMAGE_NUMBER': ['308309030',\n",
       "                                     '308309040',\n",
       "                                     '308309050',\n",
       "                                     '308309060',\n",
       "                                     '308309070',\n",
       "                                     '308309080',\n",
       "                                     '308309090',\n",
       "                                     '308309110',\n",
       "                                     '308309120',\n",
       "                                     '308309130',\n",
       "                                     '308309140',\n",
       "                                     '308309150',\n",
       "                                     '308309160',\n",
       "                                     '308309170',\n",
       "                                     '308309180',\n",
       "                                     '308309190',\n",
       "                                     '308309210',\n",
       "                                     '308309220',\n",
       "                                     '308309230',\n",
       "                                     '308309240',\n",
       "                                     '308309250',\n",
       "                                     '308309260',\n",
       "                                     '308309271',\n",
       "                                     '308309280',\n",
       "                                     '308309300',\n",
       "                                     '308309310',\n",
       "                                     '308309320'],\n",
       "                    'INSTRUMENT_ID': ['80_MM_FOCAL_LENGTH_CAMERA',\n",
       "                                      '80_MM_FOCAL_LENGTH_CAMERA',\n",
       "                                      '80_MM_FOCAL_LENGTH_CAMERA',\n",
       "                                      '80_MM_FOCAL_LENGTH_CAMERA',\n",
       "                                      '80_MM_FOCAL_LENGTH_CAMERA',\n",
       "                                      '80_MM_FOCAL_LENGTH_CAMERA',\n",
       "                                      '80_MM_FOCAL_LENGTH_CAMERA',\n",
       "                                      '80_MM_FOCAL_LENGTH_CAMERA',\n",
       "                                      '80_MM_FOCAL_LENGTH_CAMERA',\n",
       "                                      '80_MM_FOCAL_LENGTH_CAMERA',\n",
       "                                      '80_MM_FOCAL_LENGTH_CAMERA',\n",
       "                                      '80_MM_FOCAL_LENGTH_CAMERA',\n",
       "                                      '80_MM_FOCAL_LENGTH_CAMERA',\n",
       "                                      '80_MM_FOCAL_LENGTH_CAMERA',\n",
       "                                      '80_MM_FOCAL_LENGTH_CAMERA',\n",
       "                                      '80_MM_FOCAL_LENGTH_CAMERA',\n",
       "                                      '80_MM_FOCAL_LENGTH_CAMERA',\n",
       "                                      '80_MM_FOCAL_LENGTH_CAMERA',\n",
       "                                      '80_MM_FOCAL_LENGTH_CAMERA',\n",
       "                                      '80_MM_FOCAL_LENGTH_CAMERA',\n",
       "                                      '80_MM_FOCAL_LENGTH_CAMERA',\n",
       "                                      '80_MM_FOCAL_LENGTH_CAMERA',\n",
       "                                      '80_MM_FOCAL_LENGTH_CAMERA',\n",
       "                                      '80_MM_FOCAL_LENGTH_CAMERA',\n",
       "                                      '80_MM_FOCAL_LENGTH_CAMERA',\n",
       "                                      '80_MM_FOCAL_LENGTH_CAMERA',\n",
       "                                      '80_MM_FOCAL_LENGTH_CAMERA'],\n",
       "                    'SPACECRAFT_NAME': ['LUNAR_ORBITER_3',\n",
       "                                        'LUNAR_ORBITER_3',\n",
       "                                        'LUNAR_ORBITER_3',\n",
       "                                        'LUNAR_ORBITER_3',\n",
       "                                        'LUNAR_ORBITER_3',\n",
       "                                        'LUNAR_ORBITER_3',\n",
       "                                        'LUNAR_ORBITER_3',\n",
       "                                        'LUNAR_ORBITER_3',\n",
       "                                        'LUNAR_ORBITER_3',\n",
       "                                        'LUNAR_ORBITER_3',\n",
       "                                        'LUNAR_ORBITER_3',\n",
       "                                        'LUNAR_ORBITER_3',\n",
       "                                        'LUNAR_ORBITER_3',\n",
       "                                        'LUNAR_ORBITER_3',\n",
       "                                        'LUNAR_ORBITER_3',\n",
       "                                        'LUNAR_ORBITER_3',\n",
       "                                        'LUNAR_ORBITER_3',\n",
       "                                        'LUNAR_ORBITER_3',\n",
       "                                        'LUNAR_ORBITER_3',\n",
       "                                        'LUNAR_ORBITER_3',\n",
       "                                        'LUNAR_ORBITER_3',\n",
       "                                        'LUNAR_ORBITER_3',\n",
       "                                        'LUNAR_ORBITER_3',\n",
       "                                        'LUNAR_ORBITER_3',\n",
       "                                        'LUNAR_ORBITER_3',\n",
       "                                        'LUNAR_ORBITER_3',\n",
       "                                        'LUNAR_ORBITER_3']},\n",
       "    'ISIS_TARGET': {'LATITUDE_SYSTEM': 'OGRAPHIC',\n",
       "                    'LONGITUDE_SYSTEM': 360,\n",
       "                    'TARGDEF': '/usgs/cpkgs/isis2/lsb/isisd/data/targets/moon_east.def.1',\n",
       "                    'TARGET_NAME': 'MOON'},\n",
       "    'OUTPUT_MICRON': '50um',\n",
       "    'PRODUCT_ID': '3083M',\n",
       "    'SUFFIX_BYTES': 4,\n",
       "    'SUFFIX_ITEMS': [0, 0, 0]})\n",
       "])"
      ]
     },
     "execution_count": 4,
     "metadata": {},
     "output_type": "execute_result"
    }
   ],
   "source": [
    "header"
   ]
  },
  {
   "cell_type": "code",
   "execution_count": 5,
   "metadata": {
    "collapsed": true
   },
   "outputs": [],
   "source": [
    "with open(lo_file, 'rb') as f:\n",
    "    image_offset = (header[\"^QUBE\"]-1)* header[\"RECORD_BYTES\"]\n",
    "    f.seek(image_offset)\n",
    "    b_image_data = f.read()"
   ]
  },
  {
   "cell_type": "code",
   "execution_count": 6,
   "metadata": {
    "collapsed": true
   },
   "outputs": [],
   "source": [
    "n_lines = 5\n",
    "line_length = header['QUBE']['CORE_ITEMS'][0] * (header['QUBE']['CORE_ITEM_BYTES'])"
   ]
  },
  {
   "cell_type": "code",
   "execution_count": 7,
   "metadata": {
    "collapsed": true
   },
   "outputs": [],
   "source": [
    "image_data = []\n",
    "for j in range(n_lines):\n",
    "    image_sample = np.frombuffer(b_image_data[j*line_length:(j+1)*line_length], dtype=np.uint8, count=int(line_length))\n",
    "    image_data.append(image_sample)\n",
    "image_data = np.array(image_data)"
   ]
  },
  {
   "cell_type": "code",
   "execution_count": 8,
   "metadata": {},
   "outputs": [
    {
     "data": {
      "text/plain": [
       "<matplotlib.image.AxesImage at 0x2b165252c390>"
      ]
     },
     "execution_count": 8,
     "metadata": {},
     "output_type": "execute_result"
    },
    {
     "data": {
      "image/png": "[encoded data removed]",
      "text/plain": [
       "<Figure size 432x288 with 1 Axes>"
      ]
     },
     "metadata": {
      "needs_background": "light"
     },
     "output_type": "display_data"
    }
   ],
   "source": [
    "plt.imshow(image_data)"
   ]
  },
  {
   "cell_type": "code",
   "execution_count": 9,
   "metadata": {
    "collapsed": true
   },
   "outputs": [],
   "source": [
    "image_fn, image_ext = os.path.splitext(lo_file)\n",
    "mini_image_fn = image_fn + crop + image_ext\n",
    "mini_image_bn = os.path.basename(mini_image_fn)\n",
    "\n",
    "grammar = pvl.grammar.ISISGrammar()\n",
    "grammar.comments+=((\"#\", \"\\n\"), )\n",
    "encoder = pvl.encoder.ISISEncoder()\n",
    "\n",
    "\n",
    "# Overwrite the number of lines in the label\n",
    "header['^QUBE'] = pvl.collections.Units(len(pvl.dumps(header, encoder=encoder, grammar=grammar)), 'BYTES')\n",
    "header['QUBE']['CORE_ITEMS'][1] = n_lines"
   ]
  },
  {
   "cell_type": "code",
   "execution_count": 10,
   "metadata": {},
   "outputs": [
    {
     "ename": "NameError",
     "evalue": "name 'crop' is not defined",
     "output_type": "error",
     "traceback": [
      "\u001b[0;31m---------------------------------------------------------------------------\u001b[0m",
      "\u001b[0;31mNameError\u001b[0m                                 Traceback (most recent call last)",
      "\u001b[0;32m<ipython-input-10-8924675c14aa>\u001b[0m in \u001b[0;36m<module>\u001b[0;34m\u001b[0m\n\u001b[1;32m      1\u001b[0m \u001b[0mlabel_fn\u001b[0m\u001b[0;34m,\u001b[0m \u001b[0mlabel_ext\u001b[0m \u001b[0;34m=\u001b[0m \u001b[0mos\u001b[0m\u001b[0;34m.\u001b[0m\u001b[0mpath\u001b[0m\u001b[0;34m.\u001b[0m\u001b[0msplitext\u001b[0m\u001b[0;34m(\u001b[0m\u001b[0mlo_file\u001b[0m\u001b[0;34m)\u001b[0m\u001b[0;34m\u001b[0m\u001b[0;34m\u001b[0m\u001b[0m\n\u001b[0;32m----> 2\u001b[0;31m \u001b[0mout_label\u001b[0m \u001b[0;34m=\u001b[0m \u001b[0mlabel_fn\u001b[0m \u001b[0;34m+\u001b[0m \u001b[0mcrop\u001b[0m \u001b[0;34m+\u001b[0m \u001b[0mlabel_ext\u001b[0m\u001b[0;34m\u001b[0m\u001b[0;34m\u001b[0m\u001b[0m\n\u001b[0m\u001b[1;32m      3\u001b[0m \u001b[0;34m\u001b[0m\u001b[0m\n\u001b[1;32m      4\u001b[0m \u001b[0mpvl\u001b[0m\u001b[0;34m.\u001b[0m\u001b[0mdump\u001b[0m\u001b[0;34m(\u001b[0m\u001b[0mheader\u001b[0m\u001b[0;34m,\u001b[0m \u001b[0mout_label\u001b[0m\u001b[0;34m,\u001b[0m \u001b[0mencoder\u001b[0m\u001b[0;34m=\u001b[0m\u001b[0mencoder\u001b[0m\u001b[0;34m,\u001b[0m \u001b[0mgrammar\u001b[0m\u001b[0;34m=\u001b[0m\u001b[0mgrammar\u001b[0m\u001b[0;34m)\u001b[0m\u001b[0;34m\u001b[0m\u001b[0;34m\u001b[0m\u001b[0m\n",
      "\u001b[0;31mNameError\u001b[0m: name 'crop' is not defined"
     ]
    }
   ],
   "source": [
    "label_fn, label_ext = os.path.splitext(lo_file)\n",
    "out_label = label_fn + crop + label_ext\n",
    "\n",
    "pvl.dump(header, out_label, encoder=encoder, grammar=grammar)"
   ]
  },
  {
   "cell_type": "code",
   "execution_count": null,
   "metadata": {
    "collapsed": true
   },
   "outputs": [],
   "source": [
    "with open(mini_image_fn, 'ab+') as f:\n",
    "    b_reduced_image_data = image_data.tobytes()\n",
    "    f.seek(0, 2)\n",
    "    f.write(b'\\n')\n",
    "    f.write(b_reduced_image_data)"
   ]
  },
  {
   "cell_type": "code",
   "execution_count": null,
   "metadata": {
    "collapsed": true
   },
   "outputs": [],
   "source": []
  }
 ],
 "metadata": {
  "kernelspec": {
   "display_name": "Python autocnet",
   "language": "python",
   "name": "autocnet"
  },
  "language_info": {
   "codemirror_mode": {
    "name": "ipython",
    "version": 3
   },
   "file_extension": ".py",
   "mimetype": "text/x-python",
   "name": "python",
   "nbconvert_exporter": "python",
   "pygments_lexer": "ipython3",
   "version": "3.7.6"
  }
 },
 "nbformat": 4,
 "nbformat_minor": 2
}
