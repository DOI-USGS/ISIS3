{
 "cells": [
  {
   "cell_type": "code",
   "execution_count": 1,
   "metadata": {
    "collapsed": true
   },
   "outputs": [],
   "source": [
    "import pvl\n",
    "import struct\n",
    "import matplotlib.pyplot as plt\n",
    "import numpy as np\n",
    "import datetime\n",
    "import os.path\n",
    "import binascii"
   ]
  },
  {
   "cell_type": "code",
   "execution_count": 2,
   "metadata": {
    "collapsed": true
   },
   "outputs": [],
   "source": [
    "lo_file = '/home/arsanders/testData/lo/reimport/input/3133_h1.pds.img'"
   ]
  },
  {
   "cell_type": "code",
   "execution_count": 3,
   "metadata": {
    "collapsed": true
   },
   "outputs": [],
   "source": [
    "header = pvl.load(lo_file)"
   ]
  },
  {
   "cell_type": "code",
   "execution_count": 4,
   "metadata": {},
   "outputs": [
    {
     "data": {
      "text/plain": [
       "PVLModule([\n",
       "  ('PDS_VERSION_ID', 'PDS3')\n",
       "  ('RECORD_TYPE', 'FIXED_LENGTH')\n",
       "  ('RECORD_BYTES', 604)\n",
       "  ('FILE_RECORDS', 162)\n",
       "  ('LABEL_RECORDS', 11)\n",
       "  ('INTERCHANGE_FORMAT', 'BINARY')\n",
       "  ('^IMAGE', 12)\n",
       "  ('DATA_SET_ID', 'LO-L-LO3/4/5-4-CDR-V1.0')\n",
       "  ('PRODUCT_ID', '3133_H1')\n",
       "  ('ORIGINAL_PRODUCT_ID', '3133H')\n",
       "  ('PRODUCT_TYPE', 'CDR')\n",
       "  ('MISSION_NAME', 'LUNAR ORBITER')\n",
       "  ('SPACECRAFT_NAME', 'LUNAR_ORBITER_3')\n",
       "  ('INSTRUMENT_NAME', '24_INCH_FOCAL_LENGTH_CAMERA')\n",
       "  ('INSTRUMENT_ID', '24INCH_FLC')\n",
       "  ('TARGET_NAME', 'MOON')\n",
       "  ('START_TIME',\n",
       "   datetime.datetime(1967, 2, 20, 8, 14, 28, 610000, tzinfo=datetime.timezone.utc))\n",
       "  ('IMAGE_NUMBER',\n",
       "   ['313312921',\n",
       "    '313312930',\n",
       "    '313312941',\n",
       "    '313312950',\n",
       "    '313312961',\n",
       "    '313312970',\n",
       "    '313312990',\n",
       "    '313313000',\n",
       "    '313313010',\n",
       "    '313313020',\n",
       "    '313313030',\n",
       "    '313313040',\n",
       "    '313313051',\n",
       "    '313313060',\n",
       "    '313313070',\n",
       "    '313313090',\n",
       "    '313313100',\n",
       "    '313313110',\n",
       "    '313313120',\n",
       "    '313313130',\n",
       "    '313313140',\n",
       "    '313313150',\n",
       "    '313313160',\n",
       "    '313313170',\n",
       "    '313313190',\n",
       "    '313313200',\n",
       "    '313313211',\n",
       "    '313313220',\n",
       "    '313313230'])\n",
       "  ('FRAME_NUMBER', 3133)\n",
       "  ('LO:FILMSTRIP_SCAN_CREATION_DATE',\n",
       "   datetime.datetime(2003, 12, 4, 10, 9, 41, tzinfo=datetime.timezone.utc))\n",
       "  ('LO:FILMSTRIP_SCAN_RESOLUTION', Quantity(value=25, units='micron'))\n",
       "  ('LO:FILMSTRIP_SCAN_PROCESSING_RESOLUTION', Quantity(value=50, units='micron'))\n",
       "  ('LO:FIDUCIAL_ID',\n",
       "   ['1b',\n",
       "    '2a',\n",
       "    '23b',\n",
       "    '47b',\n",
       "    '48b',\n",
       "    '72b',\n",
       "    '73a',\n",
       "    '93b',\n",
       "    '94b',\n",
       "    '34b',\n",
       "    '96b',\n",
       "    '117b',\n",
       "    '118b',\n",
       "    '143b',\n",
       "    '144b',\n",
       "    '167b',\n",
       "    '168b',\n",
       "    '189b',\n",
       "    '190b',\n",
       "    '99b',\n",
       "    '193b',\n",
       "    '194b',\n",
       "    '213b',\n",
       "    '214b',\n",
       "    '239b',\n",
       "    '263b',\n",
       "    '264b',\n",
       "    '286b',\n",
       "    '236b',\n",
       "    '283b'])\n",
       "  ('LO:FIDUCIAL_SAMPLES',\n",
       "   [Quantity(value=32162.0, units='pixels'),\n",
       "    Quantity(value=32192.0, units='pixels'),\n",
       "    Quantity(value=29745.0, units='pixels'),\n",
       "    Quantity(value=27114.0, units='pixels'),\n",
       "    Quantity(value=27116.0, units='pixels'),\n",
       "    Quantity(value=24484.0, units='pixels'),\n",
       "    Quantity(value=24295.0, units='pixels'),\n",
       "    Quantity(value=22070.0, units='pixels'),\n",
       "    Quantity(value=22072.0, units='pixels'),\n",
       "    Quantity(value=28653.0, units='pixels'),\n",
       "    Quantity(value=21854.0, units='pixels'),\n",
       "    Quantity(value=19438.0, units='pixels'),\n",
       "    Quantity(value=19441.0, units='pixels'),\n",
       "    Quantity(value=16593.0, units='pixels'),\n",
       "    Quantity(value=16593.0, units='pixels'),\n",
       "    Quantity(value=13961.0, units='pixels'),\n",
       "    Quantity(value=13960.0, units='pixels'),\n",
       "    Quantity(value=11551.0, units='pixels'),\n",
       "    Quantity(value=11548.0, units='pixels'),\n",
       "    Quantity(value=21412.0, units='pixels'),\n",
       "    Quantity(value=11114.0, units='pixels'),\n",
       "    Quantity(value=11109.0, units='pixels'),\n",
       "    Quantity(value=8918.0, units='pixels'),\n",
       "    Quantity(value=8914.0, units='pixels'),\n",
       "    Quantity(value=6070.0, units='pixels'),\n",
       "    Quantity(value=3440.0, units='pixels'),\n",
       "    Quantity(value=3436.0, units='pixels'),\n",
       "    Quantity(value=1027.0, units='pixels'),\n",
       "    Quantity(value=6505.0, units='pixels'),\n",
       "    Quantity(value=1248.0, units='pixels')])\n",
       "  ('LO:FIDUCIAL_LINES',\n",
       "   [Quantity(value=8510.0, units='pixels'),\n",
       "    Quantity(value=597.0, units='pixels'),\n",
       "    Quantity(value=8505.0, units='pixels'),\n",
       "    Quantity(value=8506.0, units='pixels'),\n",
       "    Quantity(value=589.0, units='pixels'),\n",
       "    Quantity(value=587.0, units='pixels'),\n",
       "    Quantity(value=8504.0, units='pixels'),\n",
       "    Quantity(value=8502.0, units='pixels'),\n",
       "    Quantity(value=583.0, units='pixels'),\n",
       "    Quantity(value=590.0, units='pixels'),\n",
       "    Quantity(value=587.0, units='pixels'),\n",
       "    Quantity(value=8496.0, units='pixels'),\n",
       "    Quantity(value=581.0, units='pixels'),\n",
       "    Quantity(value=8498.0, units='pixels'),\n",
       "    Quantity(value=584.0, units='pixels'),\n",
       "    Quantity(value=8496.0, units='pixels'),\n",
       "    Quantity(value=581.0, units='pixels'),\n",
       "    Quantity(value=8500.0, units='pixels'),\n",
       "    Quantity(value=579.0, units='pixels'),\n",
       "    Quantity(value=8495.0, units='pixels'),\n",
       "    Quantity(value=8493.0, units='pixels'),\n",
       "    Quantity(value=580.0, units='pixels'),\n",
       "    Quantity(value=8496.0, units='pixels'),\n",
       "    Quantity(value=584.0, units='pixels'),\n",
       "    Quantity(value=8493.0, units='pixels'),\n",
       "    Quantity(value=8497.0, units='pixels'),\n",
       "    Quantity(value=580.0, units='pixels'),\n",
       "    Quantity(value=584.0, units='pixels'),\n",
       "    Quantity(value=581.0, units='pixels'),\n",
       "    Quantity(value=8496.0, units='pixels')])\n",
       "  ('LO:FIDUCIAL_COORDINATE_MICRON', Quantity(value=50, units='um'))\n",
       "  ('LO:FIDUCIAL_X_COORDINATES',\n",
       "   [Quantity(value=-108.168, units='mm'),\n",
       "    Quantity(value=-108.339, units='mm'),\n",
       "    Quantity(value=-91.403, units='mm'),\n",
       "    Quantity(value=-73.101, units='mm'),\n",
       "    Quantity(value=-73.046, units='mm'),\n",
       "    Quantity(value=-54.733, units='mm'),\n",
       "    Quantity(value=-53.474, units='mm'),\n",
       "    Quantity(value=-38.026, units='mm'),\n",
       "    Quantity(value=-37.964, units='mm'),\n",
       "    Quantity(value=-83.703, units='mm'),\n",
       "    Quantity(value=-36.446, units='mm'),\n",
       "    Quantity(value=-19.716, units='mm'),\n",
       "    Quantity(value=-19.684, units='mm'),\n",
       "    Quantity(value=0.08, units='mm'),\n",
       "    Quantity(value=0.122, units='mm'),\n",
       "    Quantity(value=18.376, units='mm'),\n",
       "    Quantity(value=18.427, units='mm'),\n",
       "    Quantity(value=35.174, units='mm'),\n",
       "    Quantity(value=35.198, units='mm'),\n",
       "    Quantity(value=-33.441, units='mm'),\n",
       "    Quantity(value=38.211, units='mm'),\n",
       "    Quantity(value=38.23, units='mm'),\n",
       "    Quantity(value=53.474, units='mm'),\n",
       "    Quantity(value=53.498, units='mm'),\n",
       "    Quantity(value=73.296, units='mm'),\n",
       "    Quantity(value=91.568, units='mm'),\n",
       "    Quantity(value=91.579, units='mm'),\n",
       "    Quantity(value=108.352, units='mm'),\n",
       "    Quantity(value=70.25, units='mm'),\n",
       "    Quantity(value=106.844, units='mm')])\n",
       "  ('LO:FIDUCIAL_Y_COORDINATES',\n",
       "   [Quantity(value=27.476, units='mm'),\n",
       "    Quantity(value=-27.488, units='mm'),\n",
       "    Quantity(value=27.483, units='mm'),\n",
       "    Quantity(value=27.498, units='mm'),\n",
       "    Quantity(value=-27.497, units='mm'),\n",
       "    Quantity(value=-27.488, units='mm'),\n",
       "    Quantity(value=27.5, units='mm'),\n",
       "    Quantity(value=27.496, units='mm'),\n",
       "    Quantity(value=-27.49, units='mm'),\n",
       "    Quantity(value=-27.494, units='mm'),\n",
       "    Quantity(value=-27.488, units='mm'),\n",
       "    Quantity(value=27.495, units='mm'),\n",
       "    Quantity(value=-27.494, units='mm'),\n",
       "    Quantity(value=27.505, units='mm'),\n",
       "    Quantity(value=-27.493, units='mm'),\n",
       "    Quantity(value=27.496, units='mm'),\n",
       "    Quantity(value=-27.49, units='mm'),\n",
       "    Quantity(value=27.492, units='mm'),\n",
       "    Quantity(value=-27.486, units='mm'),\n",
       "    Quantity(value=27.499, units='mm'),\n",
       "    Quantity(value=27.488, units='mm'),\n",
       "    Quantity(value=-27.485, units='mm'),\n",
       "    Quantity(value=27.49, units='mm'),\n",
       "    Quantity(value=-27.487, units='mm'),\n",
       "    Quantity(value=27.491, units='mm'),\n",
       "    Quantity(value=27.474, units='mm'),\n",
       "    Quantity(value=-27.49, units='mm'),\n",
       "    Quantity(value=-27.481, units='mm'),\n",
       "    Quantity(value=-27.488, units='mm'),\n",
       "    Quantity(value=27.479, units='mm')])\n",
       "  ('PRODUCER_INSTITUTION_NAME', 'U.S. GEOLOGICAL SURVEY')\n",
       "  ('PRODUCT_CREATION_TIME',\n",
       "   datetime.datetime(2010, 2, 12, 1, 12, 12, tzinfo=datetime.timezone.utc))\n",
       "  ('IMAGE',\n",
       "   {'CORE_HIGH_INSTR_SATURATION': 4286578686,\n",
       "    'CORE_HIGH_REPR_SATURATION': 4286578687,\n",
       "    'CORE_LOW_INSTR_SATURATION': 4286578685,\n",
       "    'CORE_LOW_REPR_SATURATION': 4286578684,\n",
       "    'CORE_NULL': 4286578683,\n",
       "    'LINES': 151,\n",
       "    'LINE_SAMPLES': 151,\n",
       "    'MAXIMUM': 170.0,\n",
       "    'MINIMUM': 29.0,\n",
       "    'SAMPLE_BITS': 32,\n",
       "    'SAMPLE_BIT_MASK': 4294967295,\n",
       "    'SAMPLE_TYPE': 'PC_REAL'})\n",
       "])"
      ]
     },
     "execution_count": 4,
     "metadata": {},
     "output_type": "execute_result"
    }
   ],
   "source": [
    "header"
   ]
  },
  {
   "cell_type": "code",
   "execution_count": 5,
   "metadata": {
    "collapsed": true
   },
   "outputs": [],
   "source": [
    "with open(lo_file, 'rb') as f:\n",
    "    image_offset = (header[\"^IMAGE\"]-1)* header[\"RECORD_BYTES\"]\n",
    "    f.seek(image_offset)\n",
    "    b_image_data = f.read()"
   ]
  },
  {
   "cell_type": "code",
   "execution_count": 6,
   "metadata": {
    "collapsed": true
   },
   "outputs": [],
   "source": [
    "n_lines = 5\n",
    "line_length = header['IMAGE']['LINE_SAMPLES'] * (header['IMAGE']['SAMPLE_BITS']//8)"
   ]
  },
  {
   "cell_type": "code",
   "execution_count": 7,
   "metadata": {
    "collapsed": true
   },
   "outputs": [],
   "source": [
    "image_data = []\n",
    "for j in range(n_lines):\n",
    "    image_sample = np.frombuffer(b_image_data[j*line_length:(j+1)*line_length], dtype=np.float32, count=int(line_length)//4)\n",
    "    image_data.append(image_sample)\n",
    "image_data = np.array(image_data)"
   ]
  },
  {
   "cell_type": "code",
   "execution_count": 8,
   "metadata": {},
   "outputs": [
    {
     "data": {
      "text/plain": [
       "<matplotlib.image.AxesImage at 0x2b0b0318a950>"
      ]
     },
     "execution_count": 8,
     "metadata": {},
     "output_type": "execute_result"
    },
    {
     "data": {
      "image/png": "[encoded data removed]",
      "text/plain": [
       "<Figure size 432x288 with 1 Axes>"
      ]
     },
     "metadata": {
      "needs_background": "light"
     },
     "output_type": "display_data"
    }
   ],
   "source": [
    "plt.imshow(image_data)"
   ]
  },
  {
   "cell_type": "code",
   "execution_count": 9,
   "metadata": {
    "collapsed": true
   },
   "outputs": [],
   "source": [
    "image_fn, image_ext = os.path.splitext(lo_file)\n",
    "crop = '_cropped'\n",
    "mini_image_fn = image_fn + crop + image_ext\n",
    "mini_image_bn = os.path.basename(mini_image_fn)\n",
    "\n",
    "grammar = pvl.grammar.ISISGrammar()\n",
    "grammar.comments+=((\"#\", \"\\n\"), )\n",
    "encoder = pvl.encoder.ISISEncoder()\n",
    "\n",
    "# Overwrite the number of lines in the label\n",
    "header['IMAGE']['LINES'] = n_lines\n",
    "\n",
    "# Calculate the new offset\n",
    "header['^IMAGE'] = pvl.collections.Units(len(pvl.dumps(header, encoder=encoder, grammar=grammar)), 'BYTES')"
   ]
  },
  {
   "cell_type": "code",
   "execution_count": 10,
   "metadata": {},
   "outputs": [
    {
     "data": {
      "text/plain": [
       "5230"
      ]
     },
     "execution_count": 10,
     "metadata": {},
     "output_type": "execute_result"
    }
   ],
   "source": [
    "label_fn, label_ext = os.path.splitext(lo_file)\n",
    "out_label = label_fn + crop + label_ext\n",
    "\n",
    "pvl.dump(header, out_label, encoder=encoder, grammar=grammar)"
   ]
  },
  {
   "cell_type": "code",
   "execution_count": 11,
   "metadata": {
    "collapsed": true
   },
   "outputs": [],
   "source": [
    "with open(mini_image_fn, 'ab+') as f:\n",
    "    b_reduced_image_data = image_data.tobytes()\n",
    "    f.seek(0, 2)\n",
    "    f.write(b'\\n')\n",
    "    f.write(b_reduced_image_data)"
   ]
  },
  {
   "cell_type": "code",
   "execution_count": null,
   "metadata": {
    "collapsed": true
   },
   "outputs": [],
   "source": []
  }
 ],
 "metadata": {
  "kernelspec": {
   "display_name": "Python autocnet",
   "language": "python",
   "name": "autocnet"
  },
  "language_info": {
   "codemirror_mode": {
    "name": "ipython",
    "version": 3
   },
   "file_extension": ".py",
   "mimetype": "text/x-python",
   "name": "python",
   "nbconvert_exporter": "python",
   "pygments_lexer": "ipython3",
   "version": "3.7.6"
  }
 },
 "nbformat": 4,
 "nbformat_minor": 2
}
