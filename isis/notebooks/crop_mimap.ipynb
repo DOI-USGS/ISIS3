{
 "cells": [
  {
   "cell_type": "code",
   "execution_count": null,
   "metadata": {
    "collapsed": true
   },
   "outputs": [],
   "source": [
    "import pvl\n",
    "import struct\n",
    "import matplotlib.pyplot as plt\n",
    "import numpy as np\n",
    "import datetime\n",
    "import os.path\n",
    "import binascii"
   ]
  },
  {
   "cell_type": "code",
   "execution_count": null,
   "metadata": {
    "collapsed": true
   },
   "outputs": [],
   "source": [
    "mimap_file = '/Users/kdlee/builds/ISIS3/isis/tests/data/mimap2isis/MI_MAP_02_N65E328N64E329SC.img'\n",
    "image_file = mimap_file"
   ]
  },
  {
   "cell_type": "code",
   "execution_count": null,
   "metadata": {
    "collapsed": true
   },
   "outputs": [],
   "source": [
    "header = pvl.load(mimap_file)\n",
    "header"
   ]
  },
  {
   "cell_type": "code",
   "execution_count": null,
   "metadata": {
    "collapsed": true
   },
   "outputs": [],
   "source": [
    "with open(mimap_file, 'rb') as f:\n",
    "    try:\n",
    "        image_offset = header[\"^IMAGE\"].value-(header['IMAGE']['SAMPLE_BITS']//8)\n",
    "        f.seek(image_offset)\n",
    "        b_image_data = f.read()\n",
    "    except AttributeError:\n",
    "        # If detached label, \"^IMAGE\" will be a list.\n",
    "        image_file = os.path.dirname(mimap_file) + \"/\" + header[\"^IMAGE\"][0]\n",
    "        image_offset = header[\"^IMAGE\"][1].value\n",
    "        with open(image_file, 'rb') as im_f:\n",
    "            b_image_data = im_f.read()"
   ]
  },
  {
   "cell_type": "code",
   "execution_count": null,
   "metadata": {
    "collapsed": true
   },
   "outputs": [],
   "source": [
    "n_lines = 5\n",
    "n_samples = 5\n",
    "line_length = header['IMAGE']['LINE_SAMPLES'] * (header['IMAGE']['SAMPLE_BITS']//8)"
   ]
  },
  {
   "cell_type": "code",
   "execution_count": null,
   "metadata": {
    "collapsed": true
   },
   "outputs": [],
   "source": [
    "image_data = []\n",
    "# For MI_L3C: Use a good subset of the data.\n",
    "# Starting at the top left corner resulted in all NULL pixels.\n",
    "line_offset = 40\n",
    "sample_offset = 3000\n",
    "for j in range(line_offset, n_lines * header['IMAGE']['BANDS'] + line_offset + 1):\n",
    "    image_sample = np.frombuffer(b_image_data[j*line_length:(j+1)*line_length], dtype=np.int16, count=int(line_length/2))\n",
    "    image_data.append(image_sample)\n",
    "image_data = np.array(image_data)\n",
    "image_data = image_data[:, sample_offset:sample_offset + n_samples]"
   ]
  },
  {
   "cell_type": "code",
   "execution_count": null,
   "metadata": {
    "collapsed": true,
    "scrolled": true
   },
   "outputs": [],
   "source": [
    "plt.imshow(image_data)"
   ]
  },
  {
   "cell_type": "code",
   "execution_count": null,
   "metadata": {
    "collapsed": true
   },
   "outputs": [],
   "source": [
    "image_fn, image_ext = os.path.splitext(image_file)\n",
    "crop = '_cropped'\n",
    "mini_image_fn = image_fn + crop + image_ext\n",
    "mini_image_bn = os.path.basename(mini_image_fn)\n",
    "\n",
    "grammar = pvl.grammar.ISISGrammar()\n",
    "grammar.comments+=((\"#\", \"\\n\"), )\n",
    "encoder = pvl.encoder.ISISEncoder()\n",
    "\n",
    "# Overwrite the number of lines and samples in the label\n",
    "header['IMAGE']['LINES'] = n_lines\n",
    "header['IMAGE']['LINE_SAMPLES'] = n_samples\n",
    "\n",
    "if mimap_file != image_file:\n",
    "    # If detached label, point the mini label to the mini image\n",
    "    header['^IMAGE'] = [mini_image_bn, pvl.collections.Units(1, 'BYTES')]\n",
    "    header['FILE_NAME'] = mini_image_bn\n",
    "else:\n",
    "    # If attached label, calculate the new offset\n",
    "    header['^IMAGE'] = pvl.collections.Units(len(pvl.dumps(header, encoder=encoder, grammar=grammar)), 'BYTES')"
   ]
  },
  {
   "cell_type": "code",
   "execution_count": null,
   "metadata": {
    "collapsed": true
   },
   "outputs": [],
   "source": [
    "label_fn, label_ext = os.path.splitext(mimap_file)\n",
    "out_label = label_fn + crop + label_ext\n",
    "\n",
    "pvl.dump(header, out_label, encoder=encoder, grammar=grammar)"
   ]
  },
  {
   "cell_type": "code",
   "execution_count": null,
   "metadata": {
    "collapsed": true
   },
   "outputs": [],
   "source": [
    "with open(mini_image_fn, 'ab+') as f:\n",
    "    b_reduced_image_data = image_data.tobytes()\n",
    "    f.seek(0, 2)\n",
    "    f.write(b'\\n')\n",
    "    f.write(b_reduced_image_data)"
   ]
  },
  {
   "cell_type": "code",
   "execution_count": null,
   "metadata": {
    "collapsed": true
   },
   "outputs": [],
   "source": []
  }
 ],
 "metadata": {
  "kernelspec": {
   "display_name": "Python autocnet",
   "language": "python",
   "name": "autocnet"
  },
  "language_info": {
   "codemirror_mode": {
    "name": "ipython",
    "version": 3
   },
   "file_extension": ".py",
   "mimetype": "text/x-python",
   "name": "python",
   "nbconvert_exporter": "python",
   "pygments_lexer": "ipython3",
   "version": "3.7.6"
  }
 },
 "nbformat": 4,
 "nbformat_minor": 2
}
