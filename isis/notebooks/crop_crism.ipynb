{
 "cells": [
  {
   "cell_type": "code",
   "execution_count": 1,
   "metadata": {
    "collapsed": true
   },
   "outputs": [],
   "source": [
    "import pvl\n",
    "import struct\n",
    "import matplotlib.pyplot as plt\n",
    "import numpy as np\n",
    "import datetime\n",
    "import os.path\n",
    "import binascii"
   ]
  },
  {
   "cell_type": "code",
   "execution_count": 2,
   "metadata": {
    "collapsed": true
   },
   "outputs": [],
   "source": [
    "crism_file = '/home/arsanders/testData/crism/tsts/mrdr/input/t1865_mrrde_70n185_0256_1.lbl'\n",
    "image_file = crism_file"
   ]
  },
  {
   "cell_type": "code",
   "execution_count": 3,
   "metadata": {
    "collapsed": true
   },
   "outputs": [],
   "source": [
    "header = pvl.load(crism_file)"
   ]
  },
  {
   "cell_type": "code",
   "execution_count": 4,
   "metadata": {},
   "outputs": [
    {
     "data": {
      "text/plain": [
       "PVLModule([\n",
       "  ('PDS_VERSION_ID', 'PDS3')\n",
       "  ('RECORD_TYPE', 'FIXED_LENGTH')\n",
       "  ('RECORD_BYTES', 3920)\n",
       "  ('FILE_RECORDS', 30720)\n",
       "  ('LABEL_REVISION_NOTE',\n",
       "   '2003-11-19, S. Slavney (GEO); 2005-09-25, S. Murchie (JHU/APL); 2007-03-09, '\n",
       "   'E. Malaret (ACT Corp.); 2007-09-14, C. Hash (ACT Corp)')\n",
       "  ('^IMAGE', 'T1865_MRRDE_70N185_0256_1.IMG')\n",
       "  ('DATA_SET_ID', 'MRO-M-CRISM-5-RDR-MULTISPECTRAL-V1.0')\n",
       "  ('PRODUCT_ID', 'T1865_MRRDE_70N185_0256_1')\n",
       "  ('INSTRUMENT_HOST_NAME', 'MARS RECONNAISSANCE ORBITER')\n",
       "  ('SPACECRAFT_ID', 'MRO')\n",
       "  ('INSTRUMENT_NAME', 'COMPACT RECONNAISSANCE IMAGING SPECTROMETER FOR MARS')\n",
       "  ('INSTRUMENT_ID', 'CRISM')\n",
       "  ('TARGET_NAME', 'MARS')\n",
       "  ('PRODUCT_TYPE', 'MAP_PROJECTED_MULTISPECTRAL_RDR')\n",
       "  ('PRODUCT_CREATION_TIME',\n",
       "   datetime.datetime(2007, 12, 22, 16, 50, 47, 432000, tzinfo=datetime.timezone.utc))\n",
       "  ('START_TIME', 'N/A')\n",
       "  ('STOP_TIME', 'N/A')\n",
       "  ('SPACECRAFT_CLOCK_START_COUNT', 'N/A')\n",
       "  ('SPACECRAFT_CLOCK_STOP_COUNT', 'N/A')\n",
       "  ('PRODUCT_VERSION_ID', '1')\n",
       "  ('PRODUCER_INSTITUTION_NAME', 'APPLIED PHYSICS LABORATORY')\n",
       "  ('SOFTWARE_NAME', 'PIPE_create_crism_mrdr_product')\n",
       "  ('SOFTWARE_VERSION_ID', '12.21.07')\n",
       "  ('MRO:WAVELENGTH_FILE_NAME', 'T1865_MRRWV_70N185_0256_1.TAB')\n",
       "  ('IMAGE',\n",
       "   {'BANDS': 24,\n",
       "    'BAND_NAME': ['Solar longitude, deg',\n",
       "                  'Solar distance, AU',\n",
       "                  'Observation ID, VNIR',\n",
       "                  'Observation ID, IR',\n",
       "                  'Ordinal counter, VNIR',\n",
       "                  'Ordinal counter, IR',\n",
       "                  'Column number, VNIR',\n",
       "                  'Column number, IR',\n",
       "                  'Line, or frame number, VNIR',\n",
       "                  'Line, or frame number, IR',\n",
       "                  'INA at areoid, deg',\n",
       "                  'EMA at areoid, deg',\n",
       "                  'Phase angle, deg',\n",
       "                  'Latitude, areocentric, deg N',\n",
       "                  'Longitude, areocentric, deg E',\n",
       "                  'INA at surface from MOLA, deg',\n",
       "                  'EMA at surface from MOLA, deg',\n",
       "                  'Slope magnitude from MOLA, deg',\n",
       "                  'MOLA slope azimuth, deg clkwise from N',\n",
       "                  'Elevation, meters relative to MOLA',\n",
       "                  'Thermal inertia, J m^-2 K^-1 s^-0.5',\n",
       "                  'Bolometic albedo',\n",
       "                  'Local solar time, hours',\n",
       "                  'Spare'],\n",
       "    'BAND_STORAGE_TYPE': 'BAND_SEQUENTIAL',\n",
       "    'LINES': 1280,\n",
       "    'LINE_SAMPLES': 980,\n",
       "    'SAMPLE_BITS': 32,\n",
       "    'SAMPLE_TYPE': 'PC_REAL'})\n",
       "  ('IMAGE_MAP_PROJECTION',\n",
       "   {'A_AXIS_RADIUS': Quantity(value=3396, units='KM'),\n",
       "    'B_AXIS_RADIUS': Quantity(value=3396, units='KM'),\n",
       "    'CENTER_LATITUDE': Quantity(value=67.5000001, units='DEGREE'),\n",
       "    'CENTER_LONGITUDE': Quantity(value=185.0, units='DEGREE'),\n",
       "    'COORDINATE_SYSTEM_NAME': 'PLANETOCENTRIC',\n",
       "    'COORDINATE_SYSTEM_TYPE': 'BODY-FIXED ROTATING',\n",
       "    'C_AXIS_RADIUS': Quantity(value=3396, units='KM'),\n",
       "    'EASTERNMOST_LONGITUDE': Quantity(value=9.9999999, units='DEGREE'),\n",
       "    'FIRST_STANDARD_PARALLEL': 'N/A',\n",
       "    'LINE_FIRST_PIXEL': 1,\n",
       "    'LINE_LAST_PIXEL': 1280,\n",
       "    'LINE_PROJECTION_OFFSET': 18560.0,\n",
       "    'MAP_PROJECTION_ROTATION': 0.0,\n",
       "    'MAP_PROJECTION_TYPE': 'EQUIRECTANGULAR',\n",
       "    'MAP_RESOLUTION': Quantity(value=256, units='PIXEL/DEGREE'),\n",
       "    'MAP_SCALE': Quantity(value=0.231528833585, units='KM/PIXEL'),\n",
       "    'MAXIMUM_LATITUDE': Quantity(value=72.5, units='DEGREE'),\n",
       "    'MINIMUM_LATITUDE': Quantity(value=67.5000001, units='DEGREE'),\n",
       "    'POSITIVE_LONGITUDE_DIRECTION': 'EAST',\n",
       "    'REFERENCE_LATITUDE': 'N/A',\n",
       "    'REFERENCE_LONGITUDE': 'N/A',\n",
       "    'SAMPLE_FIRST_PIXEL': 1,\n",
       "    'SAMPLE_LAST_PIXEL': 980,\n",
       "    'SAMPLE_PROJECTION_OFFSET': 47360.0,\n",
       "    'SECOND_STANDARD_PARALLEL': 'N/A',\n",
       "    'WESTERNMOST_LONGITUDE': Quantity(value=360.0, units='DEGREE'),\n",
       "    '^DATA_SET_MAP_PROJECTION': 'MRR_MAP.CAT'})\n",
       "])"
      ]
     },
     "execution_count": 4,
     "metadata": {},
     "output_type": "execute_result"
    }
   ],
   "source": [
    "header"
   ]
  },
  {
   "cell_type": "code",
   "execution_count": 5,
   "metadata": {
    "collapsed": true
   },
   "outputs": [],
   "source": [
    "with open(crism_file, 'rb') as f:\n",
    "    image_file = os.path.dirname(crism_file) + \"/\" + header[\"^IMAGE\"].lower()\n",
    "    with open(image_file, 'rb') as im_f:\n",
    "        b_image_data = im_f.read()"
   ]
  },
  {
   "cell_type": "code",
   "execution_count": 6,
   "metadata": {
    "collapsed": true
   },
   "outputs": [],
   "source": [
    "n_lines = 10\n",
    "line_length = header['IMAGE']['LINE_SAMPLES'] * (header['IMAGE']['SAMPLE_BITS']//8)"
   ]
  },
  {
   "cell_type": "code",
   "execution_count": 7,
   "metadata": {
    "collapsed": true
   },
   "outputs": [],
   "source": [
    "image_data = []\n",
    "for j in range(n_lines):\n",
    "    image_sample = np.frombuffer(b_image_data[j*line_length:(j+1)*line_length], dtype=np.float32, count=int(line_length/4))\n",
    "    image_data.append(image_sample)\n",
    "image_data = np.array(image_data)"
   ]
  },
  {
   "cell_type": "code",
   "execution_count": 8,
   "metadata": {
    "scrolled": true
   },
   "outputs": [
    {
     "data": {
      "text/plain": [
       "<matplotlib.image.AxesImage at 0x2aff238d0850>"
      ]
     },
     "execution_count": 8,
     "metadata": {},
     "output_type": "execute_result"
    },
    {
     "data": {
      "image/png": "[encoded data removed]",
      "text/plain": [
       "<Figure size 432x288 with 1 Axes>"
      ]
     },
     "metadata": {
      "needs_background": "light"
     },
     "output_type": "display_data"
    }
   ],
   "source": [
    "plt.imshow(image_data)"
   ]
  },
  {
   "cell_type": "code",
   "execution_count": 9,
   "metadata": {
    "collapsed": true
   },
   "outputs": [],
   "source": [
    "image_fn, image_ext = os.path.splitext(image_file)\n",
    "mini_image_fn = image_fn + '_cropped' + image_ext\n",
    "mini_image_bn = os.path.basename(mini_image_fn)\n",
    "\n",
    "# Overwrite the number of lines in the label\n",
    "header['IMAGE']['LINES'] = n_lines\n",
    "header['IMAGE']['BANDS'] = 1\n",
    "header['^IMAGE'] = mini_image_bn\n",
    "header['FILE_RECORDS'] = n_lines -1\n"
   ]
  },
  {
   "cell_type": "code",
   "execution_count": 11,
   "metadata": {},
   "outputs": [
    {
     "data": {
      "text/plain": [
       "3539"
      ]
     },
     "execution_count": 11,
     "metadata": {},
     "output_type": "execute_result"
    }
   ],
   "source": [
    "label_fn, label_ext = os.path.splitext(crism_file)\n",
    "out_label = label_fn + '_cropped' + label_ext\n",
    "\n",
    "grammar = pvl.grammar.ISISGrammar()\n",
    "grammar.comments+=((\"#\", \"\\n\"), )\n",
    "encoder = pvl.encoder.ISISEncoder()\n",
    "pvl.dump(header, out_label, encoder=encoder, grammar=grammar)"
   ]
  },
  {
   "cell_type": "code",
   "execution_count": 12,
   "metadata": {
    "collapsed": true
   },
   "outputs": [],
   "source": [
    "with open(mini_image_fn, 'wb+') as f:\n",
    "    b_reduced_image_data = image_data.tobytes()\n",
    "    f.seek(0, 2)\n",
    "    f.write(b_reduced_image_data)"
   ]
  }
 ],
 "metadata": {
  "kernelspec": {
   "display_name": "Python autocnet",
   "language": "python",
   "name": "autocnet"
  },
  "language_info": {
   "codemirror_mode": {
    "name": "ipython",
    "version": 3
   },
   "file_extension": ".py",
   "mimetype": "text/x-python",
   "name": "python",
   "nbconvert_exporter": "python",
   "pygments_lexer": "ipython3",
   "version": "3.7.6"
  }
 },
 "nbformat": 4,
 "nbformat_minor": 2
}
