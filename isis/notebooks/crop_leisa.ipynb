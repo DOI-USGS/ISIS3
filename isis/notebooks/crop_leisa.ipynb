{
 "cells": [
  {
   "cell_type": "code",
   "execution_count": 19,
   "metadata": {
    "collapsed": true
   },
   "outputs": [],
   "source": [
    "from astropy.io import fits"
   ]
  },
  {
   "cell_type": "code",
   "execution_count": 41,
   "metadata": {},
   "outputs": [],
   "source": [
    "#test_data_filename = './tsts/badfiles/input/lsb_0034933739_0x53c_sci_1.fit'\n",
    "#test_data_filename = './tsts/calib/input/lsb_0034933739_0x53c_sci_1.fit'\n",
    "#test_data_filename = './tsts/qualityReplacement/input/lsb_0034931099_0x53c_sci_1.fit'\n",
    "test_data_filename = './tsts/raw/input/lsb_0030594839_0x53d_eng_1.fit'\n",
    "original_fits = fits.open(test_data_filename, mode='readonly')"
   ]
  },
  {
   "cell_type": "code",
   "execution_count": 42,
   "metadata": {},
   "outputs": [
    {
     "data": {
      "text/plain": [
       "[<astropy.io.fits.hdu.image.PrimaryHDU object at 0x2b948df121d0>, <astropy.io.fits.hdu.table.BinTableHDU object at 0x2b948dd3c2e8>]"
      ]
     },
     "execution_count": 42,
     "metadata": {},
     "output_type": "execute_result"
    }
   ],
   "source": [
    "original_fits"
   ]
  },
  {
   "cell_type": "code",
   "execution_count": 43,
   "metadata": {},
   "outputs": [
    {
     "name": "stdout",
     "output_type": "stream",
     "text": [
      "Filename: ./tsts/raw/input/lsb_0030594839_0x53d_eng_1.fit\n",
      "No.    Name      Ver    Type      Cards   Dimensions   Format\n",
      "  0  PRIMARY       1 PrimaryHDU     283   (256, 256, 319)   int16   \n",
      "  1  HOUSEKEEPING    1 BinTableHDU    183   46R x 75C   [J, B, B, B, B, B, B, I, I, I, I, I, I, I, B, B, B, B, B, B, B, B, B, B, B, B, B, B, B, B, B, B, B, B, B, B, B, B, I, I, I, B, B, B, B, B, B, B, B, B, B, B, B, I, I, I, I, I, I, I, I, I, J, J, B, I, I, I, I, I, I, I, I, I, J]   \n"
     ]
    }
   ],
   "source": [
    "fits.info(test_data_filename)"
   ]
  },
  {
   "cell_type": "code",
   "execution_count": 44,
   "metadata": {
    "collapsed": true
   },
   "outputs": [],
   "source": [
    "## This fuction creates and populates the HDU (Header Data Unit) for each FITS extension\n",
    "## I fully expect that this function would need to be modified for other special-case FITS data.\n",
    "def to_extension(header, data):\n",
    "    hdu = fits.ImageHDU()\n",
    "    hdu.data = data\n",
    "    \n",
    "    # Special case:\n",
    "    # These FITS files do not meet the FITS standard, so two keywords needed to be added to the header of \n",
    "    # most extensions so that astropy would write out a FITS file without error. \n",
    "    \n",
    "    # Don't add 'PCOUNT' or 'GCOUNT' to the primary image or the first extension\n",
    "    # These keywords aren't needed for the primary image and the first extenison already has them    \n",
    "    if not('SIMPLE' in header.keys() or 'WCSNAME' in header.keys()):\n",
    "        header['PCOUNT'] = 0\n",
    "        header['GCOUNT'] = 1\n",
    "    hdu.header = header\n",
    "    return hdu"
   ]
  },
  {
   "cell_type": "code",
   "execution_count": 45,
   "metadata": {
    "collapsed": true
   },
   "outputs": [],
   "source": [
    "new_fits = fits.HDUList() \n",
    "\n",
    "# Copy cropped data from original FITS file into new FITS file.\n",
    "for hdu in original_fits:\n",
    "    try:\n",
    "        new_fits.append(to_extension(hdu.header, hdu.data[0:3, 0:25]))\n",
    "    except:\n",
    "        pass"
   ]
  },
  {
   "cell_type": "code",
   "execution_count": 46,
   "metadata": {
    "collapsed": true
   },
   "outputs": [],
   "source": [
    "new_fits.writeto(\"./cropped/raw.fit\", overwrite='True')"
   ]
  },
  {
   "cell_type": "code",
   "execution_count": 48,
   "metadata": {},
   "outputs": [
    {
     "name": "stdout",
     "output_type": "stream",
     "text": [
      "Filename: ./cropped/raw.fit\n",
      "No.    Name      Ver    Type      Cards   Dimensions   Format\n",
      "  0  PRIMARY       1 PrimaryHDU     280   (256, 25, 3)   int16   \n"
     ]
    }
   ],
   "source": [
    "fits.info(\"./cropped/raw.fit\")\n"
   ]
  },
  {
   "cell_type": "code",
   "execution_count": null,
   "metadata": {
    "collapsed": true
   },
   "outputs": [],
   "source": []
  }
 ],
 "metadata": {
  "kernelspec": {
   "display_name": "Python 3",
   "language": "python",
   "name": "python3"
  },
  "language_info": {
   "codemirror_mode": {
    "name": "ipython",
    "version": 3
   },
   "file_extension": ".py",
   "mimetype": "text/x-python",
   "name": "python",
   "nbconvert_exporter": "python",
   "pygments_lexer": "ipython3",
   "version": "3.5.3"
  }
 },
 "nbformat": 4,
 "nbformat_minor": 2
}
