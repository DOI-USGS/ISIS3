{
 "cells": [
  {
   "cell_type": "code",
   "execution_count": null,
   "metadata": {},
   "outputs": [],
   "source": [
    "import pvl\n",
    "import struct\n",
    "import matplotlib.pyplot as plt\n",
    "import numpy as np\n",
    "import datetime\n",
    "import os.path\n",
    "import binascii\n"
   ]
  },
  {
   "cell_type": "code",
   "execution_count": null,
   "metadata": {},
   "outputs": [],
   "source": [
    "mimap_file = 'path/to/input/file.IMG'\n",
    "image_file = mimap_file"
   ]
  },
  {
   "cell_type": "code",
   "execution_count": null,
   "metadata": {},
   "outputs": [],
   "source": [
    "header = pvl.load(mimap_file)\n",
    "header"
   ]
  },
  {
   "cell_type": "code",
   "execution_count": null,
   "metadata": {},
   "outputs": [],
   "source": [
    "with open(mimap_file, 'rb') as f:\n",
    "    image_offset = ((header[\"^IMAGE\"] -1) * (header[\"RECORD_BYTES\"])) -1\n",
    "    f.seek(image_offset)\n",
    "    b_image_data = f.read()\n",
    "\n",
    "print(b_image_data[0:20], image_offset)\n"
   ]
  },
  {
   "cell_type": "code",
   "execution_count": null,
   "metadata": {},
   "outputs": [],
   "source": [
    "n_lines = 4\n",
    "n_samples = 5\n",
    "line_length = header['IMAGE']['LINE_SAMPLES'] * (header['IMAGE']['SAMPLE_BITS']//8)"
   ]
  },
  {
   "cell_type": "code",
   "execution_count": null,
   "metadata": {},
   "outputs": [],
   "source": [
    "image_data = []\n",
    "line_offset = 100\n",
    "sample_offset = 100\n",
    "\n",
    "for j in range(line_offset, n_lines * header['IMAGE']['BANDS'] + line_offset + 1):\n",
    "    print(j*line_length,(j+1)*line_length)\n",
    "    image_sample = np.frombuffer(b_image_data[j*line_length:(j+1)*line_length], dtype=np.int16, count=int(line_length/2))\n",
    "    image_data.append(image_sample)\n",
    "image_data = np.array(image_data)\n",
    "image_data = image_data[:, sample_offset:sample_offset + n_samples]\n",
    "print(image_data.shape)"
   ]
  },
  {
   "cell_type": "code",
   "execution_count": null,
   "metadata": {},
   "outputs": [],
   "source": [
    "plt.figure(figsize=(20,20))\n",
    "plt.imshow(image_data,cmap=\"gray\")#[0:20,0:20])"
   ]
  },
  {
   "cell_type": "code",
   "execution_count": null,
   "metadata": {},
   "outputs": [],
   "source": [
    "print(image_data[0][0])\n",
    "\n",
    "\n",
    "class RealIsisCubeLabelEncoder(pvl.encoder.ISISEncoder):\n",
    "    def encode_time(self, value):\n",
    "        if value.microsecond:\n",
    "            second = u'%02d.%06d' % (value.second, value.microsecond)\n",
    "        else:\n",
    "            second = u'%02d' % value.second\n",
    "            time = u'%02d:%02d:%s' % (value.hour, value.minute, second)\n",
    "        return time\n",
    "\n"
   ]
  },
  {
   "cell_type": "code",
   "execution_count": null,
   "metadata": {},
   "outputs": [],
   "source": [
    "import math\n",
    "\n",
    "image_fn, image_ext = os.path.splitext(image_file)\n",
    "crop = '_cropped'\n",
    "mini_image_fn = image_fn + crop + image_ext\n",
    "print(mini_image_fn)\n",
    "mini_image_bn = os.path.basename(mini_image_fn)\n",
    "grammar = pvl.grammar.ISISGrammar()\n",
    "grammar.comments+=((\"#\", \"\\n\"), )\n",
    "encoder = RealIsisCubeLabelEncoder()\n",
    "# Overwrite the number of lines in the label\n",
    "header['IMAGE']['LINES'] = n_lines + 1\n",
    "header['IMAGE']['LINE_SAMPLES'] = n_samples\n",
    "actual_label_size = len(pvl.dumps(header, encoder=encoder, grammar=grammar)) / header[\"RECORD_BYTES\"]\n",
    "print(actual_label_size)\n",
    "header['^IMAGE'] = math.ceil(actual_label_size) + 1\n",
    "print(int(header[\"RECORD_BYTES\"] * (math.ceil(actual_label_size) - actual_label_size)))\n",
    "# - 1 from 0 based and another - 1 from the new line written before the padding\n",
    "padding = ['0' for i in range(0, (int(header[\"RECORD_BYTES\"] * (math.ceil(actual_label_size) - actual_label_size))) - 1)]\n",
    "padding = ''.join(padding)\n",
    "padding = padding.encode('utf8')\n",
    "print(padding)"
   ]
  },
  {
   "cell_type": "code",
   "execution_count": null,
   "metadata": {},
   "outputs": [],
   "source": [
    "label_fn, label_ext = os.path.splitext(mimap_file)\n",
    "out_label = label_fn + crop + label_ext\n",
    "\n",
    "pvl.dump(header, out_label, encoder=encoder, grammar=grammar)\n"
   ]
  },
  {
   "cell_type": "code",
   "execution_count": null,
   "metadata": {},
   "outputs": [],
   "source": [
    "with open(mini_image_fn, 'ab+') as f:\n",
    "    b_reduced_image_data = image_data.tobytes()\n",
    "    f.write(b'\\n')\n",
    "    f.seek(0, 2)\n",
    "    f.write(padding)\n",
    "    f.write(b_reduced_image_data)\n",
    "print(len(b_reduced_image_data),len(padding))"
   ]
  },
  {
   "cell_type": "code",
   "execution_count": null,
   "metadata": {},
   "outputs": [],
   "source": [
    "pvl.load(mini_image_fn)"
   ]
  },
  {
   "cell_type": "code",
   "execution_count": null,
   "metadata": {},
   "outputs": [],
   "source": [
    "with open(mini_image_fn, 'rb') as f:\n",
    "  image_offset = ((header[\"^IMAGE\"] -1) * header[\"RECORD_BYTES\"])\n",
    "  f.seek(image_offset)\n",
    "  b_image_data = f.read()"
   ]
  },
  {
   "cell_type": "code",
   "execution_count": null,
   "metadata": {},
   "outputs": [],
   "source": [
    "print(image_offset,b_image_data,len(b_image_data))\n",
    "image_data = np.frombuffer(b_image_data, dtype=np.int16).reshape((n_lines + 1, n_samples))\n",
    "plt.figure(0, figsize=(20, 20))\n",
    "plt.imshow(image_data)\n",
    "plt.show()"
   ]
  },
  {
   "cell_type": "code",
   "execution_count": null,
   "metadata": {},
   "outputs": [],
   "source": []
  },
  {
   "cell_type": "code",
   "execution_count": null,
   "metadata": {},
   "outputs": [],
   "source": []
  }
 ],
 "metadata": {
  "interpreter": {
   "hash": "31f2aee4e71d21fbe5cf8b01ff0e069b9275f58929596ceb00d14d90e3e16cd6"
  },
  "kernelspec": {
   "display_name": "Python 3.8.9 64-bit",
   "language": "python",
   "name": "python3"
  },
  "language_info": {
   "codemirror_mode": {
    "name": "ipython",
    "version": 3
   },
   "file_extension": ".py",
   "mimetype": "text/x-python",
   "name": "python",
   "nbconvert_exporter": "python",
   "pygments_lexer": "ipython3",
   "version": "3.7.12"
  },
  "orig_nbformat": 4
 },
 "nbformat": 4,
 "nbformat_minor": 2
}
