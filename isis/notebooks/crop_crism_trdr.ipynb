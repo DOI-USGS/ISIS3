{
 "cells": [
  {
   "cell_type": "code",
   "execution_count": 1,
   "metadata": {
    "collapsed": true
   },
   "outputs": [],
   "source": [
    "import pvl\n",
    "import struct\n",
    "import matplotlib.pyplot as plt\n",
    "import numpy as np\n",
    "import datetime\n",
    "import os.path\n",
    "import binascii"
   ]
  },
  {
   "cell_type": "code",
   "execution_count": 2,
   "metadata": {
    "collapsed": true
   },
   "outputs": [],
   "source": [
    "crism_file = '/home/arsanders/testData/crism/tsts/trdr/input/frt0001e5c3_07_if124s_trr3.lbl'\n",
    "image_file = crism_file"
   ]
  },
  {
   "cell_type": "code",
   "execution_count": 3,
   "metadata": {
    "collapsed": true
   },
   "outputs": [],
   "source": [
    "header = pvl.load(crism_file)"
   ]
  },
  {
   "cell_type": "code",
   "execution_count": 4,
   "metadata": {},
   "outputs": [
    {
     "data": {
      "text/plain": [
       "PVLModule([\n",
       "  ('PDS_VERSION_ID', 'PDS3')\n",
       "  ('LABEL_REVISION_NOTE',\n",
       "   '2004-11-22, S. Slavney (GEO); 2005-12-20, H. Taylor (JHU/APL); 2006-04-05, '\n",
       "   'S. Murchie (JHU/APL); 2006-09-18, P. Cavender (JHU/APL); 2007-02-19, P. '\n",
       "   'Cavender (JHU/APL); Version 2, new stray light subtraction 2010-06-01, D. '\n",
       "   'Humm (JHU/APL); Version 3, shutter mirror correction 2010-10-12, C. Hash '\n",
       "   '(ACT); Version 3, Added data filter control parameters')\n",
       "  ('DATA_SET_ID', 'MRO-M-CRISM-3-RDR-TARGETED-V1.0')\n",
       "  ('PRODUCT_ID', 'FRT0001E5C3_07_IF124S_TRR3')\n",
       "  ('INSTRUMENT_HOST_NAME', 'MARS RECONNAISSANCE ORBITER')\n",
       "  ('SPACECRAFT_ID', 'MRO')\n",
       "  ('INSTRUMENT_NAME', 'COMPACT RECONNAISSANCE IMAGING SPECTROMETER FOR MARS')\n",
       "  ('INSTRUMENT_ID', 'CRISM')\n",
       "  ('TARGET_NAME', 'MARS')\n",
       "  ('PRODUCT_TYPE', 'TARGETED_RDR')\n",
       "  ('PRODUCT_CREATION_TIME',\n",
       "   datetime.datetime(2011, 6, 8, 10, 52, 30, tzinfo=datetime.timezone.utc))\n",
       "  ('START_TIME',\n",
       "   datetime.datetime(2011, 6, 2, 4, 3, 9, 29000, tzinfo=datetime.timezone.utc))\n",
       "  ('STOP_TIME',\n",
       "   datetime.datetime(2011, 6, 2, 4, 5, 0, 763000, tzinfo=datetime.timezone.utc))\n",
       "  ('SPACECRAFT_CLOCK_START_COUNT', '10/0991454621.14521')\n",
       "  ('SPACECRAFT_CLOCK_STOP_COUNT', '10/0991454732.62633')\n",
       "  ('ORBIT_NUMBER', 'NULL')\n",
       "  ('OBSERVATION_TYPE', 'FRT')\n",
       "  ('OBSERVATION_ID', '16#0001E5C3#')\n",
       "  ('MRO:OBSERVATION_NUMBER', 7)\n",
       "  ('MRO:ACTIVITY_ID', 'IF124')\n",
       "  ('MRO:SENSOR_ID', 'S')\n",
       "  ('MRO:DETECTOR_TEMPERATURE', -53.663)\n",
       "  ('MRO:OPTICAL_BENCH_TEMPERATURE', -42.348)\n",
       "  ('MRO:SPECTROMETER_HOUSING_TEMP', -65.178)\n",
       "  ('MRO:SPHERE_TEMPERATURE', -42.484)\n",
       "  ('MRO:FPE_TEMPERATURE', 5.269)\n",
       "  ('PRODUCT_VERSION_ID', '3')\n",
       "  ('SOURCE_PRODUCT_ID',\n",
       "   frozenset({'CDR400991452611_SP0042501S_3',\n",
       "              'CDR400991452639_BP0042500S_3',\n",
       "              'CDR400991452639_BP1018400S_3',\n",
       "              'CDR400991454611_BI1018400S_3',\n",
       "              'CDR400991454611_UB1018400S_3',\n",
       "              'CDR400991454737_BI1018400S_3',\n",
       "              'CDR400991454737_UB1018400S_3',\n",
       "              'CDR410000000000_SH0000001S_4',\n",
       "              'CDR410000000000_SS0000001S_2',\n",
       "              'CDR450924300802_DM0000000S_3',\n",
       "              'CDR450924300802_NU1000001S_3',\n",
       "              'CDR450924300802_SF0000000S_2',\n",
       "              'CDR450924300802_TD0000000S_2',\n",
       "              'CDR6_0_0991440032_ST_J_0',\n",
       "              'CDR6_1_0000000000_AS_S_0',\n",
       "              'CDR6_1_0000000000_DB_S_0',\n",
       "              'CDR6_1_0000000000_EB_S_0',\n",
       "              'CDR6_1_0000000000_GH_S_1',\n",
       "              'CDR6_1_0000000000_HD_J_1',\n",
       "              'CDR6_1_0000000000_HK_J_1',\n",
       "              'CDR6_1_0000000000_HV_J_1',\n",
       "              'CDR6_1_0000000000_LC_S_1',\n",
       "              'CDR6_1_0000000000_LI_J_0',\n",
       "              'CDR6_1_0000000000_VL_S_0',\n",
       "              'CDR6_2_0835294537_PP_S_0',\n",
       "              'FRT0001E5C3_07_SC124S_EDR0'}))\n",
       "  ('MRO:INVALID_PIXEL_LOCATION', frozenset())\n",
       "  ('PRODUCER_INSTITUTION_NAME',\n",
       "   'JOHNS HOPKINS UNIVERSITY APPLIED PHYSICS LABORATORY')\n",
       "  ('SOFTWARE_NAME', 'crism_imagecal')\n",
       "  ('SOFTWARE_VERSION_ID', '2.5.3')\n",
       "  ('TARGET_CENTER_DISTANCE', Quantity(value='NULL', units='KM'))\n",
       "  ('SOLAR_DISTANCE', Quantity(value=213788591.232902, units='KM'))\n",
       "  ('SOLAR_LONGITUDE', 303.590051)\n",
       "  ('SHUTTER_MODE_ID', 'OPEN')\n",
       "  ('LIGHT_SOURCE_NAME', 'NONE')\n",
       "  ('MRO:CALIBRATION_LAMP_STATUS', 'OFF')\n",
       "  ('MRO:CALIBRATION_LAMP_LEVEL', 'N/A')\n",
       "  ('PIXEL_AVERAGING_WIDTH', 1)\n",
       "  ('MRO:INSTRUMENT_POINTING_MODE', 'DYNAMIC POINTING')\n",
       "  ('SCAN_MODE_ID', 'SHORT')\n",
       "  ('MRO:FRAME_RATE', Quantity(value=3.75, units='HZ'))\n",
       "  ('MRO:EXPOSURE_PARAMETER', 184)\n",
       "  ('SAMPLING_MODE_ID', 'HYPERSPEC')\n",
       "  ('COMPRESSION_TYPE', 'NONE')\n",
       "  ('MRO:WAVELENGTH_FILTER', '0')\n",
       "  ('MRO:WAVELENGTH_FILE_NAME', 'CDR450924300802_WA0000000S_2.IMG')\n",
       "  ('MRO:PIXEL_PROC_FILE_NAME', 'CDR6_2_0835294537_PP_S_0.TAB')\n",
       "  ('MRO:INV_LOOKUP_TABLE_FILE_NAME', 'CDR6_1_0000000000_LI_J_0.TAB')\n",
       "  ('MRO:ATMO_CORRECTION_FLAG', 'OFF')\n",
       "  ('MRO:THERMAL_CORRECTION_MODE', 'OFF')\n",
       "  ('MRO:PHOTOCLIN_CORRECTION_FLAG', 'OFF')\n",
       "  ('MRO:SPATIAL_RESAMPLING_FLAG', 'OFF')\n",
       "  ('MRO:SPATIAL_RESAMPLING_FILE', 'N/A')\n",
       "  ('MRO:SPATIAL_RESCALING_FLAG', 'OFF')\n",
       "  ('MRO:SPATIAL_RESCALING_FILE', 'N/A')\n",
       "  ('MRO:SPECTRAL_RESAMPLING_FLAG', 'OFF')\n",
       "  ('MRO:SPECTRAL_RESAMPLING_FILE', 'N/A')\n",
       "  ('MRO:HDF_SOFTWARE_NAME', 'crismhdf')\n",
       "  ('MRO:HDF_SOFTWARE_VERSION_ID', '1.0.5')\n",
       "  ('MRO:IF_MIN_VALUE', 0.0)\n",
       "  ('MRO:IF_MAX_VALUE', 1.0)\n",
       "  ('MRO:TRACE_MIN_VALUE', 0.01)\n",
       "  ('MRO:TRACE_MAX_VALUE', 100.0)\n",
       "  ('MRO:REFZ_MEDIAN_BOX_WIDTH', 15)\n",
       "  ('MRO:REFZ_SMOOTH_BOX_WIDTH', 5)\n",
       "  ('MRO:FRAM_STAT_MEDIAN_BOX_WIDTH', 5)\n",
       "  ('MRO:FRAM_STAT_MIN_DEVIATION', 0.005)\n",
       "  ('MRO:FRAM_STAT_MEDIAN_CONF_LVL', 0.999999)\n",
       "  ('MRO:FRAM_STAT_IQR_CONF_LVL', 0.999999)\n",
       "  ('MRO:RSC_REF_XY_MEDIAN_WIDTH', 15)\n",
       "  ('MRO:RSC_REF_XY_SMOOTH_WIDTH', 5)\n",
       "  ('MRO:RSC_REF_YZ_MEDIAN_WIDTH', 15)\n",
       "  ('MRO:RSC_REF_YZ_SMOOTH_WIDTH', 5)\n",
       "  ('MRO:RSC_RATIO_XY_MEDIAN_WIDTH', 25)\n",
       "  ('MRO:RSC_RATIO_XY_SMOOTH_WIDTH', 13)\n",
       "  ('MRO:RSC_RES_XY_PLY_ORDER', 5)\n",
       "  ('MRO:RSC_RES_XY_PLY_EXTND_WIDTH', 38)\n",
       "  ('MRO:LOG_XFORM_NEG_CLIP_VALUE', 'N/A')\n",
       "  ('MRO:IKF_NUM_REGIONS', 'N/A')\n",
       "  ('MRO:IKF_START_CHANNEL', ['N/A', 'N/A'])\n",
       "  ('MRO:IKF_STOP_CHANNEL', ['N/A', 'N/A'])\n",
       "  ('MRO:IKF_CONFIDENCE_LEVEL', ['N/A', 'N/A'])\n",
       "  ('MRO:IKF_WEIGHTING_STDDEV', ['N/A', 'N/A'])\n",
       "  ('MRO:IKF_KERNEL_SIZE_X', ['N/A', 'N/A'])\n",
       "  ('MRO:IKF_KERNEL_SIZE_Y', ['N/A', 'N/A'])\n",
       "  ('MRO:IKF_KERNEL_SIZE_Z', ['N/A', 'N/A'])\n",
       "  ('MRO:IKF_MODEL_ORDER_X', ['N/A', 'N/A'])\n",
       "  ('MRO:IKF_MODEL_ORDER_Y', ['N/A', 'N/A'])\n",
       "  ('MRO:IKF_MODEL_ORDER_Z', ['N/A', 'N/A'])\n",
       "  ('FILE',\n",
       "   {'FILE_RECORDS': 44941,\n",
       "    'IMAGE': {'BANDS': 107,\n",
       "              'BAND_STORAGE_TYPE': 'LINE_INTERLEAVED',\n",
       "              'LINES': 420,\n",
       "              'LINE_SAMPLES': 640,\n",
       "              'SAMPLE_BITS': 32,\n",
       "              'SAMPLE_TYPE': 'PC_REAL',\n",
       "              'UNIT': 'I_OVER_F'},\n",
       "    'RECORD_BYTES': 2560,\n",
       "    'RECORD_TYPE': 'FIXED_LENGTH',\n",
       "    'ROWNUM_TABLE': {'COLUMN': {'BIT_MASK': 511,\n",
       "                                'BYTES': 2,\n",
       "                                'COLUMN_NUMBER': 1,\n",
       "                                'DATA_TYPE': 'MSB_UNSIGNED_INTEGER',\n",
       "                                'DESCRIPTION': 'Detector row number from which '\n",
       "                                               'the data was taken.',\n",
       "                                'NAME': 'DETECTOR_ROW_NUMBER',\n",
       "                                'START_BYTE': 1},\n",
       "                     'COLUMNS': 1,\n",
       "                     'DESCRIPTION': 'The detector is subsampled in the spectral '\n",
       "                                    'direction by selecting specific rows to be '\n",
       "                                    'downlinked. This table provides a list of '\n",
       "                                    'the rows selected for all frames in this '\n",
       "                                    'multidimensional image cube.',\n",
       "                     'INTERCHANGE_FORMAT': 'BINARY',\n",
       "                     'NAME': 'SELECTED ROWS FROM DETECTOR',\n",
       "                     'ROWS': 107,\n",
       "                     'ROW_BYTES': 2},\n",
       "    '^IMAGE': 'FRT0001E5C3_07_IF124S_TRR3.IMG',\n",
       "    '^ROWNUM_TABLE': ['FRT0001E5C3_07_IF124S_TRR3.IMG', 44941]})\n",
       "  ('FILE',\n",
       "   {'FILE_RECORDS': 420,\n",
       "    'RECORD_BYTES': 1221,\n",
       "    'RECORD_TYPE': 'FIXED_LENGTH',\n",
       "    'TRDR_HK_TABLE': {'COLUMNS': 233,\n",
       "                      'INTERCHANGE_FORMAT': 'ASCII',\n",
       "                      'NAME': 'TARGETED RDR HOUSEKEEPING TABLE',\n",
       "                      'ROWS': 420,\n",
       "                      'ROW_BYTES': 1221,\n",
       "                      '^STRUCTURE': 'TRDRHK.FMT'},\n",
       "    '^TRDR_HK_TABLE': 'FRT0001E5C3_07_RA124S_HKP3.TAB'})\n",
       "])"
      ]
     },
     "execution_count": 4,
     "metadata": {},
     "output_type": "execute_result"
    }
   ],
   "source": [
    "header"
   ]
  },
  {
   "cell_type": "code",
   "execution_count": 5,
   "metadata": {
    "collapsed": true
   },
   "outputs": [],
   "source": [
    "with open(crism_file, 'rb') as f:\n",
    "    image_file = os.path.dirname(crism_file) + \"/\" + header['FILE'][\"^IMAGE\"].lower()\n",
    "    with open(image_file, 'rb') as im_f:\n",
    "        b_image_data = im_f.read()"
   ]
  },
  {
   "cell_type": "code",
   "execution_count": 6,
   "metadata": {
    "collapsed": true
   },
   "outputs": [],
   "source": [
    "n_lines = 1\n",
    "line_length = header['FILE']['IMAGE']['LINE_SAMPLES'] * (header['FILE']['IMAGE']['SAMPLE_BITS']//8)"
   ]
  },
  {
   "cell_type": "code",
   "execution_count": 7,
   "metadata": {
    "collapsed": true
   },
   "outputs": [],
   "source": [
    "def read_crism_trdr(b_image_data, line_length, n_lines, n_bands):\n",
    "    image_data = []\n",
    "    for j in range(n_lines*n_bands):\n",
    "        image_sample = np.frombuffer(b_image_data[j*line_length:(j+1)*line_length],\n",
    "                                     dtype=np.float32, count=int(line_length/4))\n",
    "        image_data.append(image_sample)\n",
    "    return np.array(image_data)"
   ]
  },
  {
   "cell_type": "code",
   "execution_count": 8,
   "metadata": {
    "collapsed": true
   },
   "outputs": [],
   "source": [
    "#\n",
    "n_output_bands = 107\n",
    "n_bands = header['FILE']['IMAGE']['BANDS']\n",
    "image_data = read_crism_trdr(b_image_data, line_length, n_lines, n_bands)\n",
    "\n",
    "cropped_image_data = image_data"
   ]
  },
  {
   "cell_type": "code",
   "execution_count": 9,
   "metadata": {
    "scrolled": false
   },
   "outputs": [
    {
     "data": {
      "text/plain": [
       "<matplotlib.image.AxesImage at 0x2ab7ccf77f10>"
      ]
     },
     "execution_count": 9,
     "metadata": {},
     "output_type": "execute_result"
    },
    {
     "data": {
      "image/png": "[encoded data removed]",
      "text/plain": [
       "<Figure size 432x288 with 1 Axes>"
      ]
     },
     "metadata": {
      "needs_background": "light"
     },
     "output_type": "display_data"
    }
   ],
   "source": [
    "plt.imshow(cropped_image_data)"
   ]
  },
  {
   "cell_type": "code",
   "execution_count": 10,
   "metadata": {
    "collapsed": true
   },
   "outputs": [],
   "source": [
    "image_fn, image_ext = os.path.splitext(image_file)\n",
    "mini_image_fn = image_fn + '_cropped' + image_ext\n",
    "mini_image_bn = os.path.basename(mini_image_fn)\n",
    "\n",
    "# Overwrite the number of lines in the label\n",
    "header['FILE']['IMAGE']['LINES'] = n_lines\n",
    "header['FILE']['IMAGE']['BANDS'] = n_output_bands\n",
    "header['FILE']['^IMAGE'] = mini_image_bn\n",
    "header['FILE']['FILE_RECORDS'] = n_lines * n_output_bands + 1\n",
    "header['FILE']['^ROWNUM_TABLE'][0] = mini_image_bn\n",
    "header['FILE']['^ROWNUM_TABLE'][1] = n_lines * n_output_bands + 1\n",
    "header['FILE']['ROWNUM_TABLE']['ROWS'] = n_output_bands\n",
    "# Access the second instance of \"FILE\", which can't be accessed by name\n",
    "header[-1][1]['TRDR_HK_TABLE'] = 0\n",
    "header[-1][1]['^TRDR_HK_TABLE'] = 0"
   ]
  },
  {
   "cell_type": "code",
   "execution_count": 12,
   "metadata": {},
   "outputs": [
    {
     "data": {
      "text/plain": [
       "6596"
      ]
     },
     "execution_count": 12,
     "metadata": {},
     "output_type": "execute_result"
    }
   ],
   "source": [
    "label_fn, label_ext = os.path.splitext(crism_file)\n",
    "out_label = label_fn + '_cropped' + label_ext\n",
    "\n",
    "grammar = pvl.grammar.ISISGrammar()\n",
    "grammar.comments+=((\"#\", \"\\n\"), )\n",
    "encoder = pvl.encoder.ISISEncoder()\n",
    "pvl.dump(header, out_label, encoder=encoder, grammar=grammar)"
   ]
  },
  {
   "cell_type": "code",
   "execution_count": 13,
   "metadata": {
    "collapsed": true
   },
   "outputs": [],
   "source": [
    "with open(mini_image_fn, 'wb+') as f:\n",
    "    b_reduced_image_data = cropped_image_data.tobytes()\n",
    "    f.seek(0, 2)\n",
    "    f.write(b_reduced_image_data)"
   ]
  }
 ],
 "metadata": {
  "kernelspec": {
   "display_name": "Python autocnet",
   "language": "python",
   "name": "autocnet"
  },
  "language_info": {
   "codemirror_mode": {
    "name": "ipython",
    "version": 3
   },
   "file_extension": ".py",
   "mimetype": "text/x-python",
   "name": "python",
   "nbconvert_exporter": "python",
   "pygments_lexer": "ipython3",
   "version": "3.7.6"
  }
 },
 "nbformat": 4,
 "nbformat_minor": 2
}
